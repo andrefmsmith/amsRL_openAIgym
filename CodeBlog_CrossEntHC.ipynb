{
 "cells": [
  {
   "cell_type": "code",
   "execution_count": 106,
   "metadata": {},
   "outputs": [],
   "source": [
    "import gym\n",
    "import math\n",
    "import numpy as np\n",
    "from collections import deque\n",
    "import matplotlib.pyplot as plt\n",
    "%matplotlib inline\n",
    "\n",
    "import torch\n",
    "import torch.nn as nn\n",
    "import torch.nn.functional as F\n",
    "from torch.autograd import Variable\n",
    "import heapq"
   ]
  },
  {
   "cell_type": "code",
   "execution_count": 75,
   "metadata": {},
   "outputs": [
    {
     "name": "stdout",
     "output_type": "stream",
     "text": [
      "observation space: Box(2,)\n",
      "action space: Box(1,)\n",
      "  - low: [-1.]\n",
      "  - high: [1.]\n",
      "Training on cpu.\n"
     ]
    },
    {
     "name": "stderr",
     "output_type": "stream",
     "text": [
      "/Users/andre/Desktop/Deep_RL/gym/gym/logger.py:30: UserWarning: \u001b[33mWARN: Box bound precision lowered by casting to float32\u001b[0m\n",
      "  warnings.warn(colorize('%s: %s'%('WARN', msg % args), 'yellow'))\n"
     ]
    }
   ],
   "source": [
    "device = torch.device(\"cuda:0\" if torch.cuda.is_available() else \"cpu\")\n",
    "\n",
    "env = gym.make('MountainCarContinuous-v0')\n",
    "\n",
    "print('observation space:', env.observation_space)\n",
    "print('action space:', env.action_space)\n",
    "print('  - low:', env.action_space.low)\n",
    "print('  - high:', env.action_space.high)\n",
    "print('Training on {}.'.format(device))"
   ]
  },
  {
   "cell_type": "code",
   "execution_count": 149,
   "metadata": {},
   "outputs": [],
   "source": [
    "class Agent(nn.Module):\n",
    "    def __init__(self, env, h_size=16):\n",
    "        super(Agent, self).__init__()\n",
    "        self.env = env\n",
    "        # state, hidden layer, action sizes\n",
    "        self.s_size = env.observation_space.shape[0]\n",
    "        self.h_size = h_size\n",
    "        self.a_size = env.action_space.shape[0]\n",
    "        # define layers\n",
    "        self.fc1 = nn.Linear(self.s_size, self.h_size)\n",
    "        self.fc2 = nn.Linear(self.h_size, self.a_size)\n",
    "    \n",
    "    def forward(self,x ):\n",
    "        x = F.relu(self.fc1(x))\n",
    "        x = F.tanh(self.fc2(x))\n",
    "        return x.cpu().data\n",
    "        \n",
    "    def populate(self, best_wb, noise):\n",
    "        w_fc1 = best_wb[0] + noise*(np.random.randn(self.h_size, self.s_size))#noise*(np.random.rand(self.s_size, self.h_size))\n",
    "        w_fc2 = best_wb[1] + noise*(np.random.randn(self.a_size, self.h_size))#noise*(np.random.rand(self.h_size, self.a_size))\n",
    "        \n",
    "        b_fc1 = best_wb[2] + noise*np.random.randn(self.h_size)\n",
    "        b_fc2 = best_wb[3] + noise*np.random.randn(self.a_size)\n",
    "        return np.array((w_fc1, w_fc2, b_fc1, b_fc2))\n",
    "    \n",
    "    def assign_weights(self, new_weights):\n",
    "        self.fc1.weight.data.copy_(torch.from_numpy(new_weights[0].astype(float)))\n",
    "        self.fc2.weight.data.copy_(torch.from_numpy(new_weights[1].astype(float)))\n",
    "        self.fc1.bias.data.copy_(torch.from_numpy(new_weights[2].astype(float)))\n",
    "        self.fc2.bias.data.copy_(torch.from_numpy(new_weights[3].astype(float)))\n",
    "        \n",
    "    def evaluate(self, weights, gamma=1.0, max_t=5000):\n",
    "        self.assign_weights(weights)\n",
    "        episode_return = 0.0\n",
    "        state = self.env.reset()\n",
    "        for t in range(max_t):\n",
    "            state = torch.from_numpy(state).float().to(device)\n",
    "            action = self.forward(state)\n",
    "            state, reward, done, _ = self.env.step(action)\n",
    "            episode_return += reward * math.pow(gamma, t)\n",
    "            if done:\n",
    "                break\n",
    "        return episode_return"
   ]
  },
  {
   "cell_type": "code",
   "execution_count": 248,
   "metadata": {},
   "outputs": [],
   "source": [
    "def cem(n_iterations=500, max_t=1000, gamma=1.0, print_every=10, pop_size=50, topk=10, noise=0.5):\n",
    "    scores_deque = deque(maxlen=100)\n",
    "    scores = []\n",
    "    best_weight = agent.populate([0,0,0,0], noise=1)\n",
    "    \n",
    "    for i_iteration in range(1, n_iterations+1):\n",
    "        weights_pop = [agent.populate(best_weight, noise) for i in range(pop_size)]\n",
    "        rewards = np.array([agent.evaluate(weights, gamma, max_t) for weights in weights_pop])\n",
    "        \n",
    "        elite_idxs = rewards.argsort()[-topk:]\n",
    "        elite_weights = [weights_pop[i] for i in elite_idxs]\n",
    "        best_weight = np.array(elite_weights).mean(axis=0)\n",
    "        \n",
    "        reward = agent.evaluate(best_weight, gamma=1.0)\n",
    "        scores_deque.append(reward)\n",
    "        scores.append(reward)\n",
    "        \n",
    "        if i_iteration % print_every == 0:\n",
    "            print('Episode {}\\tAverage Score: {:.2f}'.format(i_iteration, np.mean(scores_deque)))\n",
    "\n",
    "        if np.mean(scores_deque)>=90.0:\n",
    "            print('\\nEnvironment solved in {:d} iterations!\\tAverage Score: {:.2f}'.format(i_iteration-100, np.mean(scores_deque)))\n",
    "            break\n",
    "    return scores"
   ]
  },
  {
   "cell_type": "code",
   "execution_count": 249,
   "metadata": {},
   "outputs": [],
   "source": [
    "s_size = 2\n",
    "h_size = 16\n",
    "a_size = 1\n",
    "\n"
   ]
  },
  {
   "cell_type": "code",
   "execution_count": null,
   "metadata": {},
   "outputs": [
    {
     "name": "stdout",
     "output_type": "stream",
     "text": [
      "Episode 10\tAverage Score: -4.13\n",
      "Episode 20\tAverage Score: -3.23\n",
      "Episode 30\tAverage Score: -3.24\n",
      "Episode 40\tAverage Score: -3.04\n",
      "Episode 50\tAverage Score: -2.88\n",
      "Episode 60\tAverage Score: -2.75\n",
      "Episode 70\tAverage Score: -2.73\n"
     ]
    }
   ],
   "source": [
    "agent=Agent(env).to(device)\n",
    "scores = cem()"
   ]
  },
  {
   "cell_type": "code",
   "execution_count": null,
   "metadata": {},
   "outputs": [],
   "source": [
    "fig = plt.figure()\n",
    "ax = fig.add_subplot(111)\n",
    "plt.plot(np.arange(1, len(scores)+1), scores)\n",
    "plt.ylabel('Score')\n",
    "plt.xlabel('Episode #')\n",
    "plt.show()"
   ]
  },
  {
   "cell_type": "code",
   "execution_count": null,
   "metadata": {},
   "outputs": [],
   "source": [
    "agent=Agent(env).to(device)\n",
    "noise = 0.5\n",
    "pop_size=50\n",
    "gamma=1.0\n",
    "max_t=1000"
   ]
  },
  {
   "cell_type": "code",
   "execution_count": 200,
   "metadata": {},
   "outputs": [],
   "source": [
    "best_weight = agent.populate([0,0,0,0], noise=1)\n",
    "weights_pop = [agent.populate(best_weight, noise) for i in range(pop_size)]"
   ]
  },
  {
   "cell_type": "code",
   "execution_count": 201,
   "metadata": {},
   "outputs": [],
   "source": [
    "rewards = np.array([agent.evaluate(weights, gamma, max_t) for weights in weights_pop])"
   ]
  },
  {
   "cell_type": "code",
   "execution_count": 229,
   "metadata": {},
   "outputs": [
    {
     "data": {
      "text/plain": [
       "-0.2305362998429407"
      ]
     },
     "execution_count": 229,
     "metadata": {},
     "output_type": "execute_result"
    }
   ],
   "source": [
    "rewards[2]"
   ]
  },
  {
   "cell_type": "code",
   "execution_count": 243,
   "metadata": {},
   "outputs": [
    {
     "data": {
      "text/plain": [
       "array([33, 39, 25,  0, 41, 18, 27, 21,  2, 43])"
      ]
     },
     "execution_count": 243,
     "metadata": {},
     "output_type": "execute_result"
    }
   ],
   "source": [
    "elite_idxs = rewards.argsort()[-10:]\n",
    "elite_idxs"
   ]
  },
  {
   "cell_type": "code",
   "execution_count": 244,
   "metadata": {},
   "outputs": [],
   "source": [
    "elite_weights = [weights_pop[i] for i in elite_idxs]\n",
    "best_weight = np.mean(np.array(elite_weights), axis=0) #.mean(axis=0)"
   ]
  },
  {
   "cell_type": "code",
   "execution_count": 245,
   "metadata": {},
   "outputs": [
    {
     "data": {
      "text/plain": [
       "-42.85210447035296"
      ]
     },
     "execution_count": 245,
     "metadata": {},
     "output_type": "execute_result"
    }
   ],
   "source": [
    "agent.evaluate(best_weight, gamma=1.0)"
   ]
  },
  {
   "cell_type": "code",
   "execution_count": 237,
   "metadata": {},
   "outputs": [
    {
     "data": {
      "text/plain": [
       "-3.351523173804016"
      ]
     },
     "execution_count": 237,
     "metadata": {},
     "output_type": "execute_result"
    }
   ],
   "source": [
    "agent.evaluate(weights_pop[21], gamma=1.0)"
   ]
  },
  {
   "cell_type": "code",
   "execution_count": 240,
   "metadata": {},
   "outputs": [
    {
     "data": {
      "text/plain": [
       "array([array([[ 0.09813731,  0.15601263],\n",
       "       [ 0.72544051, -0.39018466],\n",
       "       [ 1.12492783, -0.36036814],\n",
       "       [-0.17594344,  0.27272546],\n",
       "       [-0.02291312, -0.23619531],\n",
       "       [-0.66313218, -0.30721579],\n",
       "       [ 0.43746565,  0.29307826],\n",
       "       [-0.4971635 ,  0.03438454],\n",
       "       [ 0.84659517,  0.76442069],\n",
       "       [-0.03850961,  0.26902303],\n",
       "       [ 0.02958754,  0.38765538],\n",
       "       [-0.13086719, -0.37753442],\n",
       "       [-0.38442353,  0.65246781],\n",
       "       [-0.01446417,  0.10237782],\n",
       "       [ 0.0822133 , -0.43648435],\n",
       "       [-0.17675986,  0.00927517]]),\n",
       "       array([[ 0.33061632,  0.56700223, -0.20851992, -0.14496004, -0.08518741,\n",
       "         0.21187735,  0.18381412,  0.16480907,  0.3139015 , -0.657997  ,\n",
       "         0.45035074,  0.87067443, -0.52884111, -0.56074772, -0.25299005,\n",
       "        -0.2626033 ]]),\n",
       "       array([ 0.01750513, -0.39839713, -0.35299685,  0.55293329, -0.16216973,\n",
       "       -1.00737627, -0.08060279, -0.60388184, -0.22604667,  0.13959995,\n",
       "        0.21225064, -0.29655773,  0.43957586, -0.79585355,  0.2696296 ,\n",
       "       -0.14232688]),\n",
       "       array([-0.17819123])], dtype=object)"
      ]
     },
     "execution_count": 240,
     "metadata": {},
     "output_type": "execute_result"
    }
   ],
   "source": [
    "best_weight-weights_pop[21]"
   ]
  },
  {
   "cell_type": "code",
   "execution_count": 239,
   "metadata": {},
   "outputs": [
    {
     "data": {
      "text/plain": [
       "array([array([[-1.66843477,  0.00523438],\n",
       "       [-0.97596543, -1.26506249],\n",
       "       [-1.64361276,  2.13121824],\n",
       "       [-2.39649791,  1.71295331],\n",
       "       [-0.74878221,  0.63322646],\n",
       "       [ 1.31969003, -1.44515961],\n",
       "       [ 0.34982547, -0.6357634 ],\n",
       "       [ 0.4930625 ,  0.14354734],\n",
       "       [-3.49799067, -0.8796155 ],\n",
       "       [-0.97634482,  0.53084925],\n",
       "       [-1.8955993 ,  0.35928997],\n",
       "       [-1.74462099,  0.09744174],\n",
       "       [-0.99976082, -0.43186455],\n",
       "       [ 2.05634493, -0.32473247],\n",
       "       [ 0.39929847, -0.0238132 ],\n",
       "       [ 0.36733429, -0.04152168]]),\n",
       "       array([[-2.87177358, -0.80518133, -0.09384823, -1.5234505 ,  0.18728362,\n",
       "        -1.43055033, -0.47133305,  0.8082374 , -0.92859169,  1.15138671,\n",
       "        -1.44374902,  1.84780965,  0.20901451,  1.07447283, -0.51253749,\n",
       "        -0.69369788]]),\n",
       "       array([-1.2335802 , -0.9229481 , -0.28314658, -1.074112  ,  0.22399321,\n",
       "        1.14859592, -2.09604614, -0.76735675,  0.37135673, -2.10138884,\n",
       "       -0.39109368,  0.95426148, -0.00702347,  0.88042977,  0.22004764,\n",
       "       -0.46323457]),\n",
       "       array([0.24684275])], dtype=object)"
      ]
     },
     "execution_count": 239,
     "metadata": {},
     "output_type": "execute_result"
    }
   ],
   "source": [
    "weights_pop[21]"
   ]
  },
  {
   "cell_type": "code",
   "execution_count": null,
   "metadata": {},
   "outputs": [],
   "source": []
  }
 ],
 "metadata": {
  "kernelspec": {
   "display_name": "drlnd",
   "language": "python",
   "name": "drlnd"
  },
  "language_info": {
   "codemirror_mode": {
    "name": "ipython",
    "version": 3
   },
   "file_extension": ".py",
   "mimetype": "text/x-python",
   "name": "python",
   "nbconvert_exporter": "python",
   "pygments_lexer": "ipython3",
   "version": "3.6.10"
  }
 },
 "nbformat": 4,
 "nbformat_minor": 4
}
