{
 "cells": [
  {
   "cell_type": "code",
   "execution_count": 1,
   "metadata": {},
   "outputs": [],
   "source": [
    "import sys\n",
    "import numpy as np\n",
    "import random\n",
    "import math\n",
    "from collections import defaultdict, deque\n"
   ]
  },
  {
   "cell_type": "code",
   "execution_count": 3,
   "metadata": {},
   "outputs": [],
   "source": [
    "class Agent:\n",
    "    \n",
    "    def __init__(self, nA, nS, epsilon=1, epsilon_decay = 0.005, min_epsilon = 0.001, alpha = 0.8, \n",
    "                 alpha_decay = 0.99, gamma = 0.95):\n",
    "        self.nA = nA\n",
    "        self.nS = nS\n",
    "        self.Q = np.full((nS, nA), 0.01)\n",
    "        self.epsilon = epsilon\n",
    "        self.epsilon_decay = epsilon_decay\n",
    "        self.min_epsilon = min_epsilon\n",
    "        self.alpha = alpha\n",
    "        self.gamma = gamma\n",
    "        self.alpha_decay = alpha_decay\n",
    "        \n",
    "    def select_action_greedy(self, state):\n",
    "        policy_p = ((np.ones(self.nA)*self.epsilon)/self.nA)\n",
    "        greedy_Q = np.argmax(self.Q[state])\n",
    "        policy_p[greedy_Q] = 1 - self.epsilon + (self.epsilon/self.nA)\n",
    "        action = np.random.choice(self.nA, p=policy_p)\n",
    "        return action\n",
    "    \n",
    "    def agent_update_q(self, state, action, reward, next_state, done):\n",
    "        next_action = self.select_action_greedy(next_state)\n",
    "        self.Q[state][action] = (1 - self.alpha) * self.Q[state][action] + self.alpha * (reward + self.gamma * np.max(self.Q[next_state]))"
   ]
  },
  {
   "cell_type": "code",
   "execution_count": null,
   "metadata": {},
   "outputs": [],
   "source": [
    "def interact(env, agent, num_episodes, window = 100, render_toggle = False, render_eps=1000):\n",
    "    windowed_rewards = []\n",
    "    working_rewards = deque(maxlen=window)\n",
    "    #actions = []\n",
    "    goals = 0\n",
    "    \n",
    "    for i_episode in range(1, num_episodes+1):\n",
    "        state = env.reset()\n",
    "        episode_r = 0        \n",
    "        \n",
    "        while True:\n",
    "            if i_episode % render_eps == 0:\n",
    "                if render_toggle:\n",
    "                    env.render()\n",
    "            action = agent.select_action_greedy(state)\n",
    "            next_state, reward, done, _ = env.step(action)\n",
    "            agent.agent_update_q(state, action, reward, next_state, done)\n",
    "            episode_r += reward\n",
    "            state = next_state\n",
    "            #actions.append(action)\n",
    "            #print(action)\n",
    "            #env.render()\n",
    "            if done:\n",
    "                working_rewards.append(episode_r)\n",
    "                if episode_r ==1:\n",
    "                    goals += 1\n",
    "                    agent.alpha = max(0.1, agent.alpha*agent.alpha_decay)\n",
    "                break\n",
    "        \n",
    "        agent.epsilon = agent.min_epsilon + 0.99*np.exp(-agent.epsilon_decay*i_episode)\n",
    "         \n",
    "        if i_episode % window==0:\n",
    "            windowed_rewards.append(100*np.mean(working_rewards))\n",
    "            if i_episode % (window*10)==0:\n",
    "                print('Episode {}: goal reached in {} of last {} episodes'.format(i_episode, goals, window*10))\n",
    "                goals = 0\n",
    "            \n",
    "    return windowed_rewards, agent.Q"
   ]
  }
 ],
 "metadata": {
  "kernelspec": {
   "display_name": "Python 3",
   "language": "python",
   "name": "python3"
  },
  "language_info": {
   "codemirror_mode": {
    "name": "ipython",
    "version": 3
   },
   "file_extension": ".py",
   "mimetype": "text/x-python",
   "name": "python",
   "nbconvert_exporter": "python",
   "pygments_lexer": "ipython3",
   "version": "3.7.4"
  }
 },
 "nbformat": 4,
 "nbformat_minor": 2
}
