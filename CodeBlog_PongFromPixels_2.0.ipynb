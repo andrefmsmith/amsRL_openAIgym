{
 "cells": [
  {
   "cell_type": "markdown",
   "metadata": {},
   "source": [
    "# Learning *Pong!* from Pixels\n",
    "________________________________________________________\n",
    "In this notebook we will build a deep neural network with a mix of convolutional and fully-connected layers and we will train it to play Pong! using a Policy Network and REINFORCE. We will improve on the latter by using Future Rewards, Reward Normalisation and mini-batches, which allow us better credit assignment and learning stability."
   ]
  },
  {
   "cell_type": "markdown",
   "metadata": {},
   "source": [
    "## 0. Imports"
   ]
  },
  {
   "cell_type": "code",
   "execution_count": 264,
   "metadata": {},
   "outputs": [],
   "source": [
    "import numpy as np\n",
    "import matplotlib.pyplot as plt\n",
    "import torch\n",
    "import random as rand\n",
    "import gym\n",
    "import time\n",
    "\n",
    "import torch\n",
    "import torch.nn as nn\n",
    "import torch.nn.functional as F\n",
    "import torch.optim as optim\n",
    "\n",
    "#!pip install progressbar\n",
    "import progressbar as pb"
   ]
  },
  {
   "cell_type": "markdown",
   "metadata": {},
   "source": [
    "## 1. Environment info\n",
    "We're going to start with the 'Deterministic' version of Pong, which is just the standard version (no frame-skip tomfoolery). We're printing the actions available to us in Pong. The keys to them are their respective indexes and their meaning is:\n",
    "- Noop: do nothing\n",
    "- Fire: start\n",
    "- Right/Left and RightFire/LeftFire: move right or left. The difference between Right/Left and RightFire/LeftFire is that if you lose a point, after Right/Left you need to hit the fire button to resume the game. RightFire/LeftFire move the paddle and hit the Fire button in the same action, obviating the need for the latter if you lose a point."
   ]
  },
  {
   "cell_type": "code",
   "execution_count": 2,
   "metadata": {},
   "outputs": [
    {
     "name": "stdout",
     "output_type": "stream",
     "text": [
      "List of available actions:  ['NOOP', 'FIRE', 'RIGHT', 'LEFT', 'RIGHTFIRE', 'LEFTFIRE']\n",
      "Device is cuda:0.\n"
     ]
    }
   ],
   "source": [
    "env = gym.make('PongDeterministic-v4')\n",
    "device = torch.device(\"cuda:0\" if torch.cuda.is_available() else \"cpu\")\n",
    "print(\"List of available actions: \", env.unwrapped.get_action_meanings())\n",
    "print('Device is {}.'.format(device))\n",
    "NOOP = 0\n",
    "RIGHT = 4\n",
    "LEFT = 5"
   ]
  },
  {
   "cell_type": "markdown",
   "metadata": {},
   "source": [
    "## 2. Preprocessing\n",
    "We'll define a function for simplifying the sensory input fed to our neural network. ```preprocess``` accepts a list of frames and does the following:\n",
    "- Crops the input to leave out gameplay-irrelevant elements (scoreboard, boundaries);\n",
    "- Downsamples by a factor of 2 on XY and 3 on C (color) axes, reducing the image to a size of 80px x 80px x 1chan;\n",
    "- Binarises the image by setting background to 0 and paddles/ball to 1; and\n",
    "- Returns the list of n frames as a tensor of shape [1,2,80,80], ready to be fed into a torch neural network. In other words, that's a batch size of 1, 2 channels (temporal, since they're consecutive frames), 80 pixels on X and 80 pixels on Y."
   ]
  },
  {
   "cell_type": "code",
   "execution_count": 29,
   "metadata": {},
   "outputs": [],
   "source": [
    "def preprocess(frames, bg=(144,109)):\n",
    "    i = np.asarray(frames)\n",
    "\n",
    "    crop = [frame[35:195,:,:] for frame in i]\n",
    "    downsample = np.asarray([frame[::2,::2,0] for frame in crop])\n",
    "    for frame in downsample:\n",
    "        frame[frame==bg[0]] = 0\n",
    "        frame[frame==bg[1]] = 0\n",
    "        frame[frame!=0] = 1\n",
    "    \n",
    "    #downsample = np.swapaxes(downsample,0,1)\n",
    "    \n",
    "    return torch.from_numpy(downsample).float().to(device).unsqueeze(0)"
   ]
  },
  {
   "cell_type": "markdown",
   "metadata": {},
   "source": [
    "Let's have a look at an example with two frames."
   ]
  },
  {
   "cell_type": "code",
   "execution_count": 30,
   "metadata": {},
   "outputs": [
    {
     "name": "stdout",
     "output_type": "stream",
     "text": [
      "Output of preprocess function is shaped torch.Size([1, 2, 80, 80]).\n"
     ]
    },
    {
     "data": {
      "image/png": "[encoded data removed]",
      "text/plain": [
       "<Figure size 432x288 with 2 Axes>"
      ]
     },
     "metadata": {
      "needs_background": "light"
     },
     "output_type": "display_data"
    },
    {
     "data": {
      "image/png": "[encoded data removed]",
      "text/plain": [
       "<Figure size 432x288 with 2 Axes>"
      ]
     },
     "metadata": {
      "needs_background": "light"
     },
     "output_type": "display_data"
    }
   ],
   "source": [
    "env.reset()\n",
    "_, _, _, _ = env.step(0)\n",
    "# get a frame after 20 steps\n",
    "for _ in range(20):\n",
    "    fr1, _, _, _ = env.step(1)\n",
    "fr2, _, _, _ = env.step(0)\n",
    "\n",
    "plt.subplot(2,2,1)\n",
    "plt.imshow(fr1)\n",
    "plt.title('fr1 original')\n",
    "plt.subplot(2,2,2)\n",
    "plt.imshow(fr2)\n",
    "plt.title('fr2 original')\n",
    "\n",
    "plt.figure()\n",
    "plt.subplot(2,2,3)\n",
    "plt.imshow(preprocess([fr1, fr2])[0,0].cpu(), cmap='Greys')\n",
    "plt.title('fr1 preprocessed')\n",
    "plt.subplot(2,2,4)\n",
    "plt.imshow(preprocess([fr1, fr2])[0,1].cpu(), cmap='Greys')\n",
    "plt.title('fr2 preprocessed')\n",
    "\n",
    "print('Output of preprocess function is shaped {}.'.format(preprocess([fr1, fr2]).shape))"
   ]
  },
  {
   "cell_type": "markdown",
   "metadata": {},
   "source": [
    "## 3. Defining the Policy Network\n",
    "Now we define the architecture for our policy network. Convolutional layers make sense given the nature of visual stimuli the task involves. We shouldn't require more than 2 such layers, given the simplicity of stimuli involved and the types of feature detectors known to emerge in early convolutional layers (for example oriented edge detectors).  \n",
    "\n",
    "The output of our last convolutional layer is flattened and sent to a fully-connected layer, before the final output. This should use as activation function a sigmoid, since we want to output a *probability* to perform the action 'RightFire'. In a way, we define our own action space by constraining the game's original (and somewhat redundant) 6-dimensional action space to 1 dimension. Knowing the probability of 'RightFire', we can define 'LeftFire' as 1 - p(RightFire), since we don't really want our agent to do Noop a lot.  \n",
    "\n",
    "On my setup, the Adam optimizer with a learning rate of 2e-4 worked well."
   ]
  },
  {
   "cell_type": "code",
   "execution_count": 28,
   "metadata": {},
   "outputs": [],
   "source": [
    "class Policy(nn.Module):\n",
    "\n",
    "    def __init__(self):\n",
    "        super(Policy, self).__init__()\n",
    "        # 80x80x2 to 38x38x4\n",
    "        # output = (input - kernel + 2*padding)//stride +1\n",
    "            # (80 - 6 + 2*0)//2 +1 = 38\n",
    "                # (38 - 6 + 2*0)//4 +1 = 9\n",
    "        # 2 channel from the stacked frame\n",
    "        self.conv1 = nn.Conv2d(2, 4, kernel_size=6, stride=2, bias=False)\n",
    "        # 38x38x4 to 9x9x32\n",
    "        self.conv2 = nn.Conv2d(4, 16, kernel_size=6, stride=4)\n",
    "        self.size=9*9*16\n",
    "\n",
    "        self.fc1 = nn.Linear(self.size, 256)\n",
    "        self.fc2 = nn.Linear(256, 1)\n",
    "\n",
    "        self.sig = nn.Sigmoid()\n",
    "        \n",
    "    def forward(self, x):\n",
    "        x = F.relu(self.conv1(x))\n",
    "        x = F.relu(self.conv2(x))\n",
    "        x = x.view(-1,self.size)\n",
    "        x = F.relu(self.fc1(x))\n",
    "        return self.sig(self.fc2(x))\n",
    "\n",
    "\n",
    "policy=Policy().to(device)\n",
    "\n",
    "optimizer = optim.Adam(policy.parameters(), lr=2e-4)"
   ]
  },
  {
   "cell_type": "markdown",
   "metadata": {},
   "source": [
    "Quick example to check everything works well so far:"
   ]
  },
  {
   "cell_type": "code",
   "execution_count": 50,
   "metadata": {},
   "outputs": [
    {
     "name": "stdout",
     "output_type": "stream",
     "text": [
      "Passing 2 consecutive frames through \"preprocess\" and then passing those frames as input to the policy network.\n",
      "\n",
      "Output: tensor([[0.5146]], device='cuda:0', grad_fn=<SigmoidBackward>).\n"
     ]
    }
   ],
   "source": [
    "print('Passing 2 consecutive frames through \"preprocess\" and then passing those frames as \\\n",
    "input to the policy network.\\n')\n",
    "\n",
    "probabilities = policy.forward(x=preprocess([fr1, fr2]))\n",
    "\n",
    "print('Output: {}.'.format(probabilities))"
   ]
  },
  {
   "cell_type": "markdown",
   "metadata": {},
   "source": [
    "## 4. Defining functions\n",
    "We will define two functions:\n",
    "```Python\n",
    "def rollout_trajectories```\n",
    "will make our agent play a pre-defined number of *Pong!* matches, saving the states, rewards, outputs of the policy network and actions taken, and\n",
    "```Python\n",
    "def loss```\n",
    "will take these lists as input and produce a 'loss' tensor, which will be used for calculating gradients and updating the weights in our policy network.  \n",
    "\n",
    "The code block below loss runs training epochs, allowing the user to set a range of hyperparameters and calling on the two functions above.\n",
    "___________________\n",
    "### 4.0. The big picture: what are we trying to do?\n"
   ]
  },
  {
   "cell_type": "markdown",
   "metadata": {},
   "source": [
    "### 4.1. Collecting trajectories"
   ]
  },
  {
   "cell_type": "code",
   "execution_count": 338,
   "metadata": {},
   "outputs": [],
   "source": [
    "nrand = 5\n",
    "tmax = 320\n",
    "bsize=4\n",
    "gamma = 0.999\n",
    "def rollout_trajectories(env, policy, tmax, nrand, bsize, render=False):\n",
    "    states = []\n",
    "    rewards = []\n",
    "    probabilities = []\n",
    "    actions = []\n",
    "    \n",
    "    for episode in range(bsize):\n",
    "        env.reset()\n",
    "\n",
    "        env.step(1)\n",
    "\n",
    "        for _ in range(nrand):\n",
    "            fr1, _, _, _ = env.step(np.random.choice([RIGHT, LEFT]))\n",
    "            fr2, _, _, _ = env.step(NOOP)\n",
    "\n",
    "        for t in range(tmax):\n",
    "            if render:\n",
    "                env.render()\n",
    "            x = preprocess([fr1, fr2])\n",
    "            p = policy.forward(x)\n",
    "            a = RIGHT if np.random.rand() < p.item() else LEFT#np.where(np.random.rand() < p.item(), RIGHT, LEFT)\n",
    "            p = p if a == RIGHT else torch.tensor(1, device=device)-p#  np.where(a==RIGHT, p.item(), 1.0-p.item())\n",
    "\n",
    "            fr1, r1, done, _ = env.step(a)\n",
    "            fr2, r2, done, _ = env.step(NOOP)\n",
    "            r = r1+r2\n",
    "\n",
    "            states.append(x)\n",
    "            rewards.append(r)\n",
    "            probabilities.append(p)\n",
    "            actions.append(a)\n",
    "\n",
    "            if done:\n",
    "                break\n",
    "            \n",
    "    return states, rewards, probabilities, actions"
   ]
  },
  {
   "cell_type": "code",
   "execution_count": 262,
   "metadata": {},
   "outputs": [],
   "source": [
    "def loss(policy, states, rewards, probabilities, actions, tmax, bsize, gamma):\n",
    "    discount = np.tile(gamma**np.arange(tmax), bsize)\n",
    "    rewards = rewards * discount\n",
    "    rewards = np.reshape(np.asarray(rewards), (tmax, bsize), order='F')\n",
    "    rewards_future = rewards[::-1].cumsum(axis=0)[::-1]\n",
    "    rmean = np.expand_dims(np.mean(rewards_future, axis=1),1)\n",
    "    rstdv = np.expand_dims(np.std(rewards_future, axis=1),1)\n",
    "    rewards_norm = ((rewards_future - rmean)/(rstdv+1e-10)).reshape((tmax*bsize), order='F')\n",
    "    \n",
    "    probabilities = torch.stack(probabilities).squeeze().to(device)\n",
    "    rewards = torch.tensor(rewards_norm, dtype=torch.float, device=device)\n",
    "    \n",
    "    loss = []\n",
    "    for r,l in zip(rewards, probabilities):\n",
    "        loss.append(r*torch.log(l))\n",
    "    \n",
    "    loss = torch.stack(loss).mean()\n",
    "    \n",
    "    return loss"
   ]
  },
  {
   "cell_type": "code",
   "execution_count": null,
   "metadata": {},
   "outputs": [
    {
     "name": "stderr",
     "output_type": "stream",
     "text": [
      "training loop:   0% |                                           | ETA:  0:16:20\r"
     ]
    },
    {
     "name": "stdout",
     "output_type": "stream",
     "text": [
      "Batch #1/200, score -4.125.\n"
     ]
    },
    {
     "name": "stderr",
     "output_type": "stream",
     "text": [
      "training loop:   1% |                                           | ETA:  0:16:19\r"
     ]
    },
    {
     "name": "stdout",
     "output_type": "stream",
     "text": [
      "Batch #2/200, score -4.375.\n"
     ]
    },
    {
     "name": "stderr",
     "output_type": "stream",
     "text": [
      "training loop:   1% |                                           | ETA:  0:16:18\r"
     ]
    },
    {
     "name": "stdout",
     "output_type": "stream",
     "text": [
      "Batch #3/200, score -4.375.\n"
     ]
    },
    {
     "name": "stderr",
     "output_type": "stream",
     "text": [
      "training loop:   2% |                                           | ETA:  0:16:11\r"
     ]
    },
    {
     "name": "stdout",
     "output_type": "stream",
     "text": [
      "Batch #4/200, score -3.5.\n"
     ]
    },
    {
     "name": "stderr",
     "output_type": "stream",
     "text": [
      "training loop:   2% |#                                          | ETA:  0:16:09\r"
     ]
    },
    {
     "name": "stdout",
     "output_type": "stream",
     "text": [
      "Batch #5/200, score -4.5.\n"
     ]
    },
    {
     "name": "stderr",
     "output_type": "stream",
     "text": [
      "training loop:   3% |#                                          | ETA:  0:16:04\r"
     ]
    },
    {
     "name": "stdout",
     "output_type": "stream",
     "text": [
      "Batch #6/200, score -4.625.\n"
     ]
    },
    {
     "name": "stderr",
     "output_type": "stream",
     "text": [
      "training loop:   3% |#                                          | ETA:  0:16:01\r"
     ]
    },
    {
     "name": "stdout",
     "output_type": "stream",
     "text": [
      "Batch #7/200, score -3.125.\n"
     ]
    },
    {
     "name": "stderr",
     "output_type": "stream",
     "text": [
      "training loop:   4% |#                                          | ETA:  0:15:57\r"
     ]
    },
    {
     "name": "stdout",
     "output_type": "stream",
     "text": [
      "Batch #8/200, score -4.75.\n"
     ]
    },
    {
     "name": "stderr",
     "output_type": "stream",
     "text": [
      "training loop:   4% |#                                          | ETA:  0:15:53\r"
     ]
    },
    {
     "name": "stdout",
     "output_type": "stream",
     "text": [
      "Batch #9/200, score -4.25.\n"
     ]
    },
    {
     "name": "stderr",
     "output_type": "stream",
     "text": [
      "training loop:   5% |##                                         | ETA:  0:15:47\r"
     ]
    },
    {
     "name": "stdout",
     "output_type": "stream",
     "text": [
      "Batch #10/200, score -3.0.\n"
     ]
    },
    {
     "name": "stderr",
     "output_type": "stream",
     "text": [
      "training loop:   5% |##                                         | ETA:  0:15:41\r"
     ]
    },
    {
     "name": "stdout",
     "output_type": "stream",
     "text": [
      "Batch #11/200, score -4.125.\n"
     ]
    },
    {
     "name": "stderr",
     "output_type": "stream",
     "text": [
      "training loop:   6% |##                                         | ETA:  0:15:36\r"
     ]
    },
    {
     "name": "stdout",
     "output_type": "stream",
     "text": [
      "Batch #12/200, score -4.125.\n"
     ]
    },
    {
     "name": "stderr",
     "output_type": "stream",
     "text": [
      "training loop:   6% |##                                         | ETA:  0:15:30\r"
     ]
    },
    {
     "name": "stdout",
     "output_type": "stream",
     "text": [
      "Batch #13/200, score -3.75.\n"
     ]
    },
    {
     "name": "stderr",
     "output_type": "stream",
     "text": [
      "training loop:   7% |###                                        | ETA:  0:15:25\r"
     ]
    },
    {
     "name": "stdout",
     "output_type": "stream",
     "text": [
      "Batch #14/200, score -3.875.\n"
     ]
    },
    {
     "name": "stderr",
     "output_type": "stream",
     "text": [
      "training loop:   7% |###                                        | ETA:  0:15:20\r"
     ]
    },
    {
     "name": "stdout",
     "output_type": "stream",
     "text": [
      "Batch #15/200, score -3.375.\n"
     ]
    },
    {
     "name": "stderr",
     "output_type": "stream",
     "text": [
      "training loop:   8% |###                                        | ETA:  0:15:18\r"
     ]
    },
    {
     "name": "stdout",
     "output_type": "stream",
     "text": [
      "Batch #16/200, score -3.125.\n"
     ]
    },
    {
     "name": "stderr",
     "output_type": "stream",
     "text": [
      "training loop:   8% |###                                        | ETA:  0:15:13\r"
     ]
    },
    {
     "name": "stdout",
     "output_type": "stream",
     "text": [
      "Batch #17/200, score -3.875.\n"
     ]
    },
    {
     "name": "stderr",
     "output_type": "stream",
     "text": [
      "training loop:   9% |###                                        | ETA:  0:15:07\r"
     ]
    },
    {
     "name": "stdout",
     "output_type": "stream",
     "text": [
      "Batch #18/200, score -3.375.\n"
     ]
    },
    {
     "name": "stderr",
     "output_type": "stream",
     "text": [
      "training loop:   9% |####                                       | ETA:  0:15:02\r"
     ]
    },
    {
     "name": "stdout",
     "output_type": "stream",
     "text": [
      "Batch #19/200, score -4.375.\n"
     ]
    },
    {
     "name": "stderr",
     "output_type": "stream",
     "text": [
      "training loop:  10% |####                                       | ETA:  0:14:58\r"
     ]
    },
    {
     "name": "stdout",
     "output_type": "stream",
     "text": [
      "Batch #20/200, score -3.875.\n"
     ]
    },
    {
     "name": "stderr",
     "output_type": "stream",
     "text": [
      "training loop:  10% |####                                       | ETA:  0:14:53\r"
     ]
    },
    {
     "name": "stdout",
     "output_type": "stream",
     "text": [
      "Batch #21/200, score -4.5.\n"
     ]
    },
    {
     "name": "stderr",
     "output_type": "stream",
     "text": [
      "training loop:  11% |####                                       | ETA:  0:14:48\r"
     ]
    },
    {
     "name": "stdout",
     "output_type": "stream",
     "text": [
      "Batch #22/200, score -3.375.\n"
     ]
    },
    {
     "name": "stderr",
     "output_type": "stream",
     "text": [
      "training loop:  11% |####                                       | ETA:  0:14:43\r"
     ]
    },
    {
     "name": "stdout",
     "output_type": "stream",
     "text": [
      "Batch #23/200, score -3.0.\n"
     ]
    },
    {
     "name": "stderr",
     "output_type": "stream",
     "text": [
      "training loop:  12% |#####                                      | ETA:  0:14:38\r"
     ]
    },
    {
     "name": "stdout",
     "output_type": "stream",
     "text": [
      "Batch #24/200, score -3.25.\n"
     ]
    },
    {
     "name": "stderr",
     "output_type": "stream",
     "text": [
      "training loop:  12% |#####                                      | ETA:  0:14:33\r"
     ]
    },
    {
     "name": "stdout",
     "output_type": "stream",
     "text": [
      "Batch #25/200, score -3.0.\n"
     ]
    }
   ],
   "source": [
    "bsize=8\n",
    "tmax=100\n",
    "gamma = 0.999\n",
    "nrand = 5\n",
    "scores = []\n",
    "batches = 200\n",
    "#200 tmax=100\n",
    "\n",
    "#policy=Policy().to(device)\n",
    "optimizer = optim.Adam(policy.parameters(), lr=2e-4)\n",
    "\n",
    "\n",
    "widget = ['training loop: ', pb.Percentage(), ' ', \n",
    "          pb.Bar(), ' ', pb.ETA() ]\n",
    "timer = pb.ProgressBar(widgets=widget, maxval=batches).start()\n",
    "\n",
    "\n",
    "for batch in range(batches):\n",
    "    \n",
    "    states, rewards, probabilities, actions = rollout_trajectories(env, policy, tmax, nrand, bsize)\n",
    "    \n",
    "    total_rewards = np.sum(rewards)/bsize\n",
    "    scores.append(total_rewards)\n",
    "    \n",
    "    L=-loss(policy, states, rewards, probabilities, actions, tmax, bsize, gamma)\n",
    "    \n",
    "    optimizer.zero_grad()\n",
    "    L.backward()\n",
    "    optimizer.step()\n",
    "    \n",
    "    #del L\n",
    "    \n",
    "    print('Batch #{}/{}, score {}.'.format(batch+1, batches, total_rewards))\n",
    "    \n",
    "    timer.update(batch+1)\n",
    "timer.finish()\n",
    "torch.save(policy, 'pongReinforce_21032020.policy')"
   ]
  },
  {
   "cell_type": "code",
   "execution_count": 327,
   "metadata": {},
   "outputs": [
    {
     "data": {
      "text/plain": [
       "[<matplotlib.lines.Line2D at 0x1aeb9b8ca58>]"
      ]
     },
     "execution_count": 327,
     "metadata": {},
     "output_type": "execute_result"
    },
    {
     "data": {
      "image/png": "[encoded data removed]",
      "text/plain": [
       "<Figure size 432x288 with 1 Axes>"
      ]
     },
     "metadata": {
      "needs_background": "light"
     },
     "output_type": "display_data"
    }
   ],
   "source": [
    "plt.plot(scores)\n",
    "scores_epochs.append(scores)"
   ]
  },
  {
   "cell_type": "code",
   "execution_count": 337,
   "metadata": {},
   "outputs": [],
   "source": [
    "tmax=2000\n",
    "_,rplay,_,actions=rollout_trajectories(env, policy, tmax, nrand, bsize=4, render=True)\n",
    "env.close()\n",
    "\n",
    "won=[r for r in rplay if r==1]\n",
    "lost=[r for r in rplay if r==-1]\n",
    "\n",
    "print(sum(won)/4, -sum(lost)/4)"
   ]
  }
 ],
 "metadata": {
  "kernelspec": {
   "display_name": "drlnd",
   "language": "python",
   "name": "drlnd"
  },
  "language_info": {
   "codemirror_mode": {
    "name": "ipython",
    "version": 3
   },
   "file_extension": ".py",
   "mimetype": "text/x-python",
   "name": "python",
   "nbconvert_exporter": "python",
   "pygments_lexer": "ipython3",
   "version": "3.6.10"
  }
 },
 "nbformat": 4,
 "nbformat_minor": 4
}
