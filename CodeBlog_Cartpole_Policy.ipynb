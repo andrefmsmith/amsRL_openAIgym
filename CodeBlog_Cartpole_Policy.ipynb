{
 "cells": [
  {
   "cell_type": "code",
   "execution_count": 1,
   "metadata": {},
   "outputs": [],
   "source": [
    "import gym\n",
    "import numpy as np\n",
    "from collections import deque\n",
    "import matplotlib.pyplot as plt\n",
    "%matplotlib inline"
   ]
  },
  {
   "cell_type": "code",
   "execution_count": 2,
   "metadata": {},
   "outputs": [
    {
     "name": "stdout",
     "output_type": "stream",
     "text": [
      "observation space: Box(4,)\n",
      "action space: Discrete(2)\n"
     ]
    },
    {
     "name": "stderr",
     "output_type": "stream",
     "text": [
      "c:\\users\\andre\\desktop\\udacity drl\\gym\\gym\\logger.py:30: UserWarning: \u001b[33mWARN: Box bound precision lowered by casting to float32\u001b[0m\n",
      "  warnings.warn(colorize('%s: %s'%('WARN', msg % args), 'yellow'))\n"
     ]
    }
   ],
   "source": [
    "env = gym.make('CartPole-v0')\n",
    "print('observation space:', env.observation_space)\n",
    "print('action space:', env.action_space)\n",
    "\n",
    "s_sz = 4\n",
    "a_sz = 2"
   ]
  },
  {
   "cell_type": "code",
   "execution_count": null,
   "metadata": {},
   "outputs": [],
   "source": [
    "class PolicyNet():\n",
    "    def __init__(self, s_size, a_size, pop_size, noise=1e-2, noise_min=1e-4, noise_max=2):\n",
    "        self.w = 1e-4*np.random.rand(s_size, a_size)\n",
    "        self.noise = noise\n",
    "        self.nmin = noise_min\n",
    "        self.nmax = noise_max\n",
    "        self.popsize = pop_size\n",
    "        \n",
    "    def forward(self, state):\n",
    "        x = np.dot(state, self.w)\n",
    "        return np.exp(x)/sum(np.exp(x))#softmax(x)\n",
    "    \n",
    "    def act(self, state):\n",
    "        probs = self.forward(state)\n",
    "        action = np.random.choice(2, p=probs)\n",
    "        return action\n",
    "    \n",
    "    def populate(self):\n",
    "        population = np.array([self.w + self.noise*np.random.randn(*self.w.shape) for _ in range(self.popsize)])\n",
    "        return population"
   ]
  },
  {
   "cell_type": "code",
   "execution_count": null,
   "metadata": {},
   "outputs": [],
   "source": [
    "def hill_climbing(n_episodes=1000, max_t=1000, gamma=1.0, print_every=100):\n",
    "    scores_deque = deque(maxlen=print_every)\n",
    "    scores = []\n",
    "    best_R = -np.Inf\n",
    "    best_w = policy.w\n",
    "    \n",
    "    for i_episode in range(1, n_episodes+1):\n",
    "        rewards = []\n",
    "        state=env.reset()\n",
    "        \n",
    "        for t in range(max_t):\n",
    "            action = policy.act(state)\n",
    "            state, reward, done, _ = env.step(action)\n",
    "            rewards.append(reward)\n",
    "            if done:\n",
    "                break\n",
    "                \n",
    "        scores_deque.append(sum(rewards))\n",
    "        scores.append(sum(rewards))\n",
    "        \n",
    "        discounts = [gamma**i for i in range(len(rewards)+1)]\n",
    "        R = sum([a*b for a,b in zip(discounts, rewards)])\n",
    "        \n",
    "        if R >= best_R:\n",
    "            best_R = R\n",
    "            best_w = policy.w\n",
    "            policy.noise = max(policy.nmax,)"
   ]
  },
  {
   "cell_type": "code",
   "execution_count": null,
   "metadata": {},
   "outputs": [],
   "source": [
    "def hill_climbing_steepest_ANS(policy, n_episodes=1000, max_t=1000, gamma=1.0, print_every=100):\n",
    "    scores_deque = deque(maxlen=100)\n",
    "    scores = []\n",
    "    best_Return = -np.inf\n",
    "    best_w = policy.w\n",
    "    noise = []\n",
    "    \n",
    "    for i_episode in range(1, n_episodes+1):\n",
    "        rewards = np.empty((max_t, policy.popsize))\n",
    "        returns = np.empty((policy.popsize))\n",
    "        policies = policy.populate()\n",
    "        state_alpha = env.reset()\n",
    "        \n",
    "        for p in range(policy.popsize):\n",
    "            policy.w = policies[p]\n",
    "            action = policy.act(state_alpha)\n",
    "            next_state, reward, done, _ = env.step(action)\n",
    "            rewards[0,p] = reward\n",
    "            state = next_state\n",
    "            for t in range(max_t-1):\n",
    "                action = policy.act(state)\n",
    "                next_state, reward, done, _ = env.step(action)\n",
    "                rewards[t,p] = reward\n",
    "                state = next_state\n",
    "                if done:\n",
    "                    break\n",
    "                \n",
    "        discounts = [gamma**i for i in range(len(rewards)+1)]\n",
    "        returns = np.sum(rewards*discounts, axis=0) #sum([r*d for r,d in zip(rewards[:,p], discounts)])\n",
    "        \n",
    "        best_p = np.argmax(returns)\n",
    "        #top5_p = (-returns).argsort(axis=-1)[:,:5]\n",
    "        if max(returns)>=best_Return:\n",
    "            best_w = policies[best_p]\n",
    "            policy.noise = max(policy.nmin, policy.noise*0.66)\n",
    "            policy.w = best_w\n",
    "            best_Return = max(returns)\n",
    "        else:\n",
    "            policy.noise = min(policy.nmax, policy.noise*1.05)\n",
    "            policy.w = policies[best_p]\n",
    "        \n",
    "        scores_deque.append(returns[best_p])\n",
    "        scores.append(returns[best_p])\n",
    "        noise.append(policy.noise)\n",
    "        \n",
    "        if i_episode % print_every == 0:\n",
    "            print('Episode {}\\tAverage Score: {:.2f}'.format(i_episode, np.mean(scores_deque)))\n",
    "        if np.mean(scores_deque)>=195.0:\n",
    "            print('Environment solved in {} episodes!\\tAverage Score: {}'.format(i_episode-print_every, np.mean(scores_deque)))\n",
    "            best_p = np.argmax(returns)\n",
    "            best_w = policies[best_p]\n",
    "            policy.w = best_w\n",
    "            break\n",
    "        \n",
    "    return scores, noise\n",
    "            "
   ]
  },
  {
   "cell_type": "code",
   "execution_count": null,
   "metadata": {},
   "outputs": [],
   "source": [
    "policy_net = PolicyNet(s_sz, a_sz, pop_size=1)\n",
    "scores, search_r = hill_climbing_steepest_ANS(policy_net, n_episodes=1000, print_every=10)"
   ]
  },
  {
   "cell_type": "code",
   "execution_count": null,
   "metadata": {},
   "outputs": [],
   "source": [
    "plt.plot(scores)\n",
    "plt.figure()\n",
    "plt.plot(search_r)\n",
    "policy_net.w"
   ]
  },
  {
   "cell_type": "code",
   "execution_count": null,
   "metadata": {},
   "outputs": [],
   "source": [
    "pop = policy_net.populate()\n",
    "print(pop)"
   ]
  },
  {
   "cell_type": "code",
   "execution_count": null,
   "metadata": {},
   "outputs": [],
   "source": [
    "torender_episodes = 3\n",
    "torender_frames = 300\n",
    "\n",
    "plt.figure(figsize=(9,9))\n",
    "\n",
    "for i in range(0,torender_episodes):\n",
    "    state = env.reset()\n",
    "    img = plt.imshow(env.render(mode='rgb_array'))\n",
    "    for j in range(torender_frames):\n",
    "        action = policy_net.act(state)\n",
    "        img.set_data(env.render(mode='rgb_array'))\n",
    "        plt.axis('off')\n",
    "        display.display(plt.gcf())\n",
    "        display.clear_output(wait=True)\n",
    "        state, reward, done, _ = env.step(action)\n",
    "        if done:\n",
    "            break \n",
    "\n",
    "env.close()"
   ]
  },
  {
   "cell_type": "code",
   "execution_count": null,
   "metadata": {},
   "outputs": [],
   "source": [
    "policy_net.w"
   ]
  }
 ],
 "metadata": {
  "kernelspec": {
   "display_name": "drlnd",
   "language": "python",
   "name": "drlnd"
  },
  "language_info": {
   "codemirror_mode": {
    "name": "ipython",
    "version": 3
   },
   "file_extension": ".py",
   "mimetype": "text/x-python",
   "name": "python",
   "nbconvert_exporter": "python",
   "pygments_lexer": "ipython3",
   "version": "3.6.10"
  }
 },
 "nbformat": 4,
 "nbformat_minor": 4
}
