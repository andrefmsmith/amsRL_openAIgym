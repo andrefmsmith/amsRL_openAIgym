{
 "cells": [
  {
   "cell_type": "markdown",
   "metadata": {},
   "source": [
    "# Stochastic Policy Search Methods \n",
    "\n",
    "## Introduction\n",
    "In Reinforcement Learning, agents try to derive optimal policies for maximising return by learning from their interaction with the environment.  \n",
    "\n",
    "One way to achieve this is to use **value-based methods** where agents use their experience to gradually learn the value of particular actions in different states either by building a lookup table or performing function approximation using a deep neural network.  \n",
    "\n",
    "Another approach is to use **policy-based methods**, where the intermediate step of estimating a value function is skipped. Instead, a neural network is sued which accepts the state as input and outputs a probability for performing each action available to the agent at each timestep. The policy is thus represented by the weights learnt by the neural network during the agent's interaction with the environment; its goal is to find the mathematical relationship between network weights *w* and the expected return *J* which maximises *J* in the environment. In other words, it is trying to maximise a function J by controlling the network's parameters w, of which J is a function.  \n",
    "\n",
    "**Hill Climbing** is a simple optimization approach where the agent begins by initialising its policy network with random weights, then collects a single episode under its current policy (corresponding to those weights) and records the return. It then adds random noise to its current weights and collects another episode, this time using the policy corresponding to its noise-updated weights:\n",
    "\n",
    "- If the return obtained with the new policy is greater than the previous policy's, it keeps the new weights;\n",
    "- Otherwise, it reverts to the previous policy.\n",
    "\n",
    "We will use the openAI gym environment *Cartpole*. Beyond the basic Hill-Climbing optimisation algorithm described above, we will explore 3 refinements:\n",
    "- **Adaptive Noise Scaling**: the factor applied to scaling the noise added to weights during updating is scaled depending on whether we're improving upon the previous policy or not. If a weight update results in improved return, we will reduce the step size in our parameter exploration so as not to take a step so big it would overshoot a maximum and land us on the other side. Conversely, if a weight update results in worse return, we increase the step size (magnitude of noise added) in the hope of reaching a set of parameters that increases return.\n",
    "- **Steepest Ascent Hill Climbing**: we choose a number of neighbouring policies at each iteration and pick the best-performing one amongst them.\n",
    "- **Cross-Entropy**: we perform steepest ascent hill climbing but instead of picking just the policy with highest return, we select the top-k policies and take the average between them.  \n",
    "\n",
    "We will consider the environment solved if the agent achieves an average score >=195 over the last 100 episodes."
   ]
  },
  {
   "cell_type": "code",
   "execution_count": 1,
   "metadata": {},
   "outputs": [],
   "source": [
    "import gym\n",
    "import numpy as np\n",
    "from collections import deque\n",
    "import matplotlib.pyplot as plt\n",
    "import heapq\n",
    "%matplotlib inline"
   ]
  },
  {
   "cell_type": "code",
   "execution_count": 2,
   "metadata": {},
   "outputs": [
    {
     "name": "stdout",
     "output_type": "stream",
     "text": [
      "observation space: Box(4,)\n",
      "action space: Discrete(2)\n"
     ]
    },
    {
     "name": "stderr",
     "output_type": "stream",
     "text": [
      "c:\\users\\andre\\desktop\\udacity drl\\gym\\gym\\logger.py:30: UserWarning: \u001b[33mWARN: Box bound precision lowered by casting to float32\u001b[0m\n",
      "  warnings.warn(colorize('%s: %s'%('WARN', msg % args), 'yellow'))\n"
     ]
    }
   ],
   "source": [
    "env = gym.make('CartPole-v0')\n",
    "print('observation space:', env.observation_space)\n",
    "print('action space:', env.action_space)"
   ]
  },
  {
   "cell_type": "markdown",
   "metadata": {},
   "source": [
    "## Defining a Policy Network\n",
    "Cartpole is an environment with a continuous, 4-dimensional state space, and a discrete 2-dimensional action space. Our Policy Network will therefore have 4 inputs and 2 outputs. We will use Softmax as our activation function, since we wish the output to be the probability of performing each action, and the total probability should sum up to 1.\n",
    "```Python\n",
    "class PolicyNet():\n",
    "    def __init__(self, pop_size, s_size=4, a_size=2, noise=1e-2, noise_min=1e-3, noise_max=2):```\n",
    "We also define 3 noise parameters:\n",
    "- **noise**: the scaling factor to apply to the random values we generate for weight updating;\n",
    "- **noise_min** and **noise_max**: the upper and lower bounds for adaptive noise scaling.\n"
   ]
  },
  {
   "cell_type": "code",
   "execution_count": 3,
   "metadata": {},
   "outputs": [],
   "source": [
    "class PolicyNet():\n",
    "    def __init__(self, pop_size, s_size=4, a_size=2, noise=1e-2, noise_min=1e-3, noise_max=2):\n",
    "        self.w = 1e-4*np.random.rand(s_size, a_size)\n",
    "        self.noise = noise\n",
    "        self.nmin = noise_min\n",
    "        self.nmax = noise_max\n",
    "        self.popsize = pop_size\n",
    "        \n",
    "    def forward(self, state):\n",
    "        x = np.dot(state, self.w)\n",
    "        return np.exp(x)/sum(np.exp(x))#softmax(x)\n",
    "    \n",
    "    def act(self, state, stochastic=False):\n",
    "        probs = self.forward(state)\n",
    "        if stochastic:\n",
    "            action = np.random.choice(2, p=probs)\n",
    "        else:\n",
    "            action = np.argmax(probs)\n",
    "        return action\n",
    "    \n",
    "    def populate(self):\n",
    "        population = np.array([self.w + self.noise*np.random.rand(*self.w.shape) for _ in range(self.popsize)])\n",
    "        return population"
   ]
  },
  {
   "cell_type": "markdown",
   "metadata": {},
   "source": [
    "### Hill-Climbing with Adaptive Noise Scaling\n",
    "Now we define a function for training an agent to solve cartpole with a policy network where we try to maximise return using Hill-Climbing and Adaptive Noise Scaling.  \n",
    "\n",
    "At the end of every episode, if the return yielded by the current set of weights exceeds the previous return, we keep the current set of weights, decrease the noise scaling factor so that we take smaller steps, and generate a new set of weights."
   ]
  },
  {
   "cell_type": "code",
   "execution_count": 6,
   "metadata": {},
   "outputs": [],
   "source": [
    "def hill_climbing(policy, n_episodes=1000, max_t=1000, gamma=1.0, print_every=100):\n",
    "    scores_deque = deque(maxlen=100)\n",
    "    scores = []\n",
    "    best_R = -np.Inf\n",
    "    best_w = policy.w\n",
    "    \n",
    "    for i_episode in range(1, n_episodes+1):\n",
    "        rewards = []\n",
    "        state=env.reset()\n",
    "        \n",
    "        for t in range(max_t):\n",
    "            action = policy.act(state)\n",
    "            state, reward, done, _ = env.step(action)\n",
    "            rewards.append(reward)\n",
    "            if done:\n",
    "                break\n",
    "                \n",
    "        scores_deque.append(sum(rewards))\n",
    "        scores.append(sum(rewards))\n",
    "        \n",
    "        discounts = [gamma**i for i in range(len(rewards)+1)]\n",
    "        R = sum([a*b for a,b in zip(discounts, rewards)])\n",
    "        \n",
    "        if R >= best_R:\n",
    "            best_R = R\n",
    "            best_w = policy.w\n",
    "            policy.noise = max(policy.nmin, policy.noise/2)\n",
    "            policy.w += policy.noise * np.random.rand(*policy.w.shape)\n",
    "        else:\n",
    "            policy.noise = min(policy.nmax, policy.noise*2)\n",
    "            policy.w = best_w + policy.noise * np.random.rand(*policy.w.shape)\n",
    "            \n",
    "        if i_episode % print_every == 0:\n",
    "            print('Episode {}\\tAverage Score: {:.2f}'.format(i_episode, np.mean(scores_deque)))\n",
    "        if np.mean(scores_deque) >= 195.0:\n",
    "            if len(scores_deque) == 100:\n",
    "                print('Environment solved in {:d} episodes!\\tAverage Score: {:.2f}'.format(i_episode-99, np.mean(scores_deque)))\n",
    "                policy.w = best_w\n",
    "                break\n",
    "            \n",
    "    return scores"
   ]
  },
  {
   "cell_type": "markdown",
   "metadata": {},
   "source": [
    "We instantiate a policy network and train it."
   ]
  },
  {
   "cell_type": "code",
   "execution_count": 7,
   "metadata": {},
   "outputs": [
    {
     "name": "stdout",
     "output_type": "stream",
     "text": [
      "Episode 100\tAverage Score: 189.03\n",
      "Environment solved in 9 episodes!\tAverage Score: 196.42\n"
     ]
    },
    {
     "data": {
      "text/plain": [
       "[<matplotlib.lines.Line2D at 0x217fe0e8860>]"
      ]
     },
     "execution_count": 7,
     "metadata": {},
     "output_type": "execute_result"
    },
    {
     "data": {
      "image/png": "[encoded data removed]",
      "text/plain": [
       "<Figure size 432x288 with 1 Axes>"
      ]
     },
     "metadata": {
      "needs_background": "light"
     },
     "output_type": "display_data"
    }
   ],
   "source": [
    "policy_hc_ans = PolicyNet(pop_size=1)\n",
    "scores_hc_ans = hill_climbing(policy_hc_ans)\n",
    "plt.plot(scores_hc_ans)"
   ]
  },
  {
   "cell_type": "markdown",
   "metadata": {},
   "source": [
    "### Steepest Ascent Hill-Climbing\n",
    "At the beginning of every episode, the agent will generate a ```pop_size``` number of candidate policies, evaluate them all, then for the next episode keep the policy that generated the highest return/"
   ]
  },
  {
   "cell_type": "code",
   "execution_count": 8,
   "metadata": {},
   "outputs": [],
   "source": [
    "def steepest_hill_climbing(policy, n_episodes=1000, max_t=1000, gamma=1.0, print_every=100):\n",
    "    scores_deque = deque(maxlen=100)\n",
    "    scores = []\n",
    "    best_R = -np.Inf\n",
    "    best_w = policy.w\n",
    "    \n",
    "    for i_episode in range(1, n_episodes+1):\n",
    "        rewards = np.zeros((max_t, policy.popsize))\n",
    "        policies = policy.populate()\n",
    "        state_alpha = env.reset()\n",
    "        \n",
    "        for p in range(policy.popsize):\n",
    "            policy.w = policies[p]\n",
    "            state = state_alpha\n",
    "            \n",
    "            for t in range(max_t):\n",
    "                action = policy.act(state)\n",
    "                state, reward, done, _ = env.step(action)\n",
    "                rewards[t,p] = reward\n",
    "                if done:\n",
    "                    env.reset()\n",
    "                    break\n",
    "        \n",
    "        discounts = np.array([gamma**i for i in range(1000)])\n",
    "        returns = np.sum(np.array([a*b for a,b in zip(rewards, discounts)]), axis = 0)\n",
    "                \n",
    "        best_p = np.argmax(returns)\n",
    "        if returns[best_p] >= best_R:\n",
    "            best_R = returns[best_p]\n",
    "            best_w = policies[best_p]\n",
    "            policy.noise = max(policy.nmin, policy.noise/2)\n",
    "            policy.w = best_w + policy.noise * np.random.rand(*policy.w.shape)\n",
    "        else:\n",
    "            policy.noise = min(policy.nmax, policy.noise*2)\n",
    "            policy.w = best_w + policy.noise * np.random.rand(*policy.w.shape)\n",
    "                \n",
    "        scores_deque.append(np.sum(rewards[:,best_p]))\n",
    "        scores.append(np.sum(rewards[:,best_p]))\n",
    "        \n",
    "            \n",
    "        if i_episode % print_every == 0:\n",
    "            print('Episode {}\\tAverage Score: {:.2f}'.format(i_episode, np.mean(scores_deque)))\n",
    "        if np.mean(scores_deque) >= 195.0:\n",
    "            if len(scores_deque) == 100:\n",
    "                print('Environment solved in {:d} episodes!\\tAverage Score: {:.2f}'.format(i_episode-99, np.mean(scores_deque)))\n",
    "                policy.w = best_w\n",
    "                break\n",
    "            \n",
    "    return scores"
   ]
  },
  {
   "cell_type": "code",
   "execution_count": 14,
   "metadata": {},
   "outputs": [
    {
     "name": "stdout",
     "output_type": "stream",
     "text": [
      "Episode 100\tAverage Score: 198.52\n",
      "Environment solved in 1 episodes!\tAverage Score: 198.52\n"
     ]
    },
    {
     "data": {
      "text/plain": [
       "[<matplotlib.lines.Line2D at 0x217fe57ac88>]"
      ]
     },
     "execution_count": 14,
     "metadata": {},
     "output_type": "execute_result"
    },
    {
     "data": {
      "image/png": "[encoded data removed]",
      "text/plain": [
       "<Figure size 432x288 with 1 Axes>"
      ]
     },
     "metadata": {
      "needs_background": "light"
     },
     "output_type": "display_data"
    }
   ],
   "source": [
    "policy_steepest = PolicyNet(pop_size=10)\n",
    "scores_steepest = steepest_hill_climbing(policy_steepest)\n",
    "plt.plot(scores_steepest)"
   ]
  },
  {
   "cell_type": "markdown",
   "metadata": {},
   "source": [
    "### Cross-Entropy Hill-Climbing\n",
    "We do the same policy population procedure as in steepest ascent, but instead of keeping the highest return policy, we take the ```topk``` best policies and average them."
   ]
  },
  {
   "cell_type": "code",
   "execution_count": 10,
   "metadata": {},
   "outputs": [],
   "source": [
    "def steepest_hill_climbing_topk(policy, n_episodes=1000, max_t=1000, gamma=1.0, print_every=100, topk=10):\n",
    "    scores_deque = deque(maxlen=100)\n",
    "    scores = []\n",
    "    best_R = -np.Inf\n",
    "    best_w = policy.w\n",
    "    \n",
    "    for i_episode in range(1, n_episodes+1):\n",
    "        rewards = np.zeros((max_t, policy.popsize))\n",
    "        policies = policy.populate()\n",
    "        state_alpha = env.reset()\n",
    "        \n",
    "        for p in range(policy.popsize):\n",
    "            policy.w = policies[p]\n",
    "            state = state_alpha\n",
    "            \n",
    "            for t in range(max_t):\n",
    "                action = policy.act(state)\n",
    "                state, reward, done, _ = env.step(action)\n",
    "                rewards[t,p] = reward\n",
    "                if done:\n",
    "                    env.reset()\n",
    "                    break\n",
    "        \n",
    "        discounts = np.array([gamma**i for i in range(1000)])\n",
    "        returns = np.sum(np.array([a*b for a,b in zip(rewards, discounts)]), axis = 0)\n",
    "                \n",
    "        best_p = np.argmax(returns)\n",
    "        \n",
    "        top_k = heapq.nlargest( topk , range(len(returns)), returns.__getitem__)\n",
    "        \n",
    "        if returns[best_p] >= best_R:\n",
    "            best_R = returns[best_p]\n",
    "            best_w = np.mean(policies[top_k],axis=0)\n",
    "            policy.noise = max(policy.nmin, policy.noise/2)\n",
    "            policy.w = best_w + policy.noise * np.random.rand(*policy.w.shape)\n",
    "        else:\n",
    "            policy.noise = min(policy.nmax, policy.noise*2)\n",
    "            policy.w = best_w + policy.noise * np.random.rand(*policy.w.shape)\n",
    "                \n",
    "        scores_deque.append(np.sum(rewards[:,best_p]))\n",
    "        scores.append(np.sum(rewards[:,best_p]))\n",
    "        \n",
    "            \n",
    "        if i_episode % print_every == 0:\n",
    "            print('Episode {}\\tAverage Score: {:.2f}'.format(i_episode, np.mean(scores_deque)))\n",
    "        if np.mean(scores_deque) >= 195.0:\n",
    "            if len(scores_deque) == 100:\n",
    "                print('Environment solved in {:d} episodes!\\tAverage Score: {:.2f}'.format(i_episode-99, np.mean(scores_deque)))\n",
    "                policy.w = best_w\n",
    "                break\n",
    "            \n",
    "    return scores"
   ]
  },
  {
   "cell_type": "code",
   "execution_count": 12,
   "metadata": {},
   "outputs": [
    {
     "name": "stdout",
     "output_type": "stream",
     "text": [
      "Episode 100\tAverage Score: 192.37\n",
      "Environment solved in 31 episodes!\tAverage Score: 196.42\n"
     ]
    },
    {
     "data": {
      "text/plain": [
       "[<matplotlib.lines.Line2D at 0x217fdf13a20>]"
      ]
     },
     "execution_count": 12,
     "metadata": {},
     "output_type": "execute_result"
    },
    {
     "data": {
      "image/png": "[encoded data removed]",
      "text/plain": [
       "<Figure size 432x288 with 1 Axes>"
      ]
     },
     "metadata": {
      "needs_background": "light"
     },
     "output_type": "display_data"
    }
   ],
   "source": [
    "policy_cem = PolicyNet(pop_size=10)\n",
    "scores_cem = steepest_hill_climbing_topk(policy_cem, topk=3)\n",
    "plt.plot(scores_cem)"
   ]
  },
  {
   "cell_type": "markdown",
   "metadata": {},
   "source": [
    "## Comparison\n",
    "For a quick comparison, let's initialise and train 100 instances of agents with each approach and compare how long it takes them to solve the environment."
   ]
  },
  {
   "cell_type": "code",
   "execution_count": 13,
   "metadata": {},
   "outputs": [
    {
     "name": "stdout",
     "output_type": "stream",
     "text": [
      "Environment solved in 37 episodes!\tAverage Score: 195.69\n",
      "Environment solved in 70 episodes!\tAverage Score: 195.57\n",
      "Environment solved in 55 episodes!\tAverage Score: 196.10\n",
      "Environment solved in 21 episodes!\tAverage Score: 196.54\n",
      "Environment solved in 37 episodes!\tAverage Score: 196.18\n",
      "Environment solved in 586 episodes!\tAverage Score: 195.63\n",
      "Environment solved in 30 episodes!\tAverage Score: 195.41\n",
      "Environment solved in 8 episodes!\tAverage Score: 195.44\n",
      "Environment solved in 4 episodes!\tAverage Score: 196.18\n",
      "Environment solved in 69 episodes!\tAverage Score: 195.79\n",
      "Environment solved in 67 episodes!\tAverage Score: 195.83\n",
      "Environment solved in 21 episodes!\tAverage Score: 195.33\n",
      "Environment solved in 89 episodes!\tAverage Score: 195.38\n",
      "Episode 1000\tAverage Score: 194.13\n",
      "Episode 1000\tAverage Score: 192.93\n",
      "Environment solved in 59 episodes!\tAverage Score: 196.18\n",
      "Environment solved in 29 episodes!\tAverage Score: 195.62\n",
      "Episode 1000\tAverage Score: 165.12\n",
      "Environment solved in 42 episodes!\tAverage Score: 195.65\n",
      "Episode 1000\tAverage Score: 166.52\n",
      "Environment solved in 13 episodes!\tAverage Score: 196.54\n",
      "Environment solved in 64 episodes!\tAverage Score: 196.78\n",
      "Environment solved in 28 episodes!\tAverage Score: 196.51\n",
      "Environment solved in 11 episodes!\tAverage Score: 195.63\n",
      "Environment solved in 38 episodes!\tAverage Score: 196.07\n",
      "Environment solved in 11 episodes!\tAverage Score: 195.54\n",
      "Environment solved in 4 episodes!\tAverage Score: 195.49\n",
      "Environment solved in 23 episodes!\tAverage Score: 196.65\n",
      "Environment solved in 14 episodes!\tAverage Score: 196.37\n",
      "Environment solved in 30 episodes!\tAverage Score: 196.17\n",
      "Environment solved in 32 episodes!\tAverage Score: 195.55\n",
      "Environment solved in 11 episodes!\tAverage Score: 196.09\n",
      "Environment solved in 115 episodes!\tAverage Score: 195.12\n",
      "Environment solved in 68 episodes!\tAverage Score: 195.15\n",
      "Environment solved in 16 episodes!\tAverage Score: 195.48\n",
      "Environment solved in 25 episodes!\tAverage Score: 195.61\n",
      "Environment solved in 136 episodes!\tAverage Score: 195.90\n",
      "Environment solved in 164 episodes!\tAverage Score: 195.43\n",
      "Environment solved in 20 episodes!\tAverage Score: 196.15\n",
      "Environment solved in 47 episodes!\tAverage Score: 196.20\n",
      "Environment solved in 46 episodes!\tAverage Score: 195.16\n",
      "Environment solved in 43 episodes!\tAverage Score: 196.19\n",
      "Environment solved in 24 episodes!\tAverage Score: 196.53\n",
      "Environment solved in 10 episodes!\tAverage Score: 196.19\n",
      "Environment solved in 55 episodes!\tAverage Score: 195.98\n",
      "Environment solved in 13 episodes!\tAverage Score: 195.67\n",
      "Environment solved in 39 episodes!\tAverage Score: 196.14\n",
      "Environment solved in 96 episodes!\tAverage Score: 195.34\n",
      "Environment solved in 4 episodes!\tAverage Score: 195.36\n",
      "Environment solved in 51 episodes!\tAverage Score: 196.20\n",
      "Environment solved in 64 episodes!\tAverage Score: 195.19\n",
      "Environment solved in 6 episodes!\tAverage Score: 195.78\n",
      "Environment solved in 88 episodes!\tAverage Score: 195.73\n",
      "Environment solved in 13 episodes!\tAverage Score: 195.60\n",
      "Environment solved in 39 episodes!\tAverage Score: 196.65\n",
      "Environment solved in 18 episodes!\tAverage Score: 196.20\n",
      "Environment solved in 41 episodes!\tAverage Score: 195.85\n",
      "Environment solved in 1 episodes!\tAverage Score: 196.99\n",
      "Environment solved in 36 episodes!\tAverage Score: 195.52\n",
      "Environment solved in 10 episodes!\tAverage Score: 195.78\n",
      "Environment solved in 39 episodes!\tAverage Score: 195.80\n",
      "Environment solved in 24 episodes!\tAverage Score: 196.01\n",
      "Environment solved in 12 episodes!\tAverage Score: 195.13\n",
      "Episode 1000\tAverage Score: 159.01\n",
      "Environment solved in 52 episodes!\tAverage Score: 195.98\n",
      "Episode 1000\tAverage Score: 186.19\n",
      "Environment solved in 22 episodes!\tAverage Score: 195.22\n",
      "Environment solved in 17 episodes!\tAverage Score: 195.24\n",
      "Environment solved in 20 episodes!\tAverage Score: 196.39\n",
      "Environment solved in 17 episodes!\tAverage Score: 196.01\n",
      "Environment solved in 7 episodes!\tAverage Score: 195.35\n",
      "Environment solved in 87 episodes!\tAverage Score: 195.18\n",
      "Environment solved in 22 episodes!\tAverage Score: 195.73\n",
      "Environment solved in 21 episodes!\tAverage Score: 196.22\n",
      "Episode 1000\tAverage Score: 168.77\n",
      "Environment solved in 28 episodes!\tAverage Score: 195.28\n",
      "Environment solved in 22 episodes!\tAverage Score: 196.68\n",
      "Environment solved in 45 episodes!\tAverage Score: 196.87\n",
      "Environment solved in 25 episodes!\tAverage Score: 195.87\n",
      "Environment solved in 34 episodes!\tAverage Score: 195.88\n",
      "Environment solved in 32 episodes!\tAverage Score: 195.89\n",
      "Environment solved in 31 episodes!\tAverage Score: 196.55\n",
      "Environment solved in 18 episodes!\tAverage Score: 195.50\n",
      "Environment solved in 66 episodes!\tAverage Score: 196.19\n",
      "Environment solved in 52 episodes!\tAverage Score: 195.79\n",
      "Environment solved in 7 episodes!\tAverage Score: 195.98\n",
      "Environment solved in 13 episodes!\tAverage Score: 196.18\n",
      "Environment solved in 17 episodes!\tAverage Score: 195.42\n",
      "Environment solved in 94 episodes!\tAverage Score: 195.54\n",
      "Environment solved in 66 episodes!\tAverage Score: 196.02\n",
      "Environment solved in 258 episodes!\tAverage Score: 195.17\n",
      "Environment solved in 12 episodes!\tAverage Score: 195.80\n",
      "Environment solved in 7 episodes!\tAverage Score: 195.64\n",
      "Environment solved in 34 episodes!\tAverage Score: 196.83\n",
      "Environment solved in 52 episodes!\tAverage Score: 195.52\n",
      "Environment solved in 11 episodes!\tAverage Score: 196.19\n",
      "Environment solved in 20 episodes!\tAverage Score: 195.83\n",
      "Environment solved in 16 episodes!\tAverage Score: 196.59\n",
      "Environment solved in 44 episodes!\tAverage Score: 195.25\n",
      "Environment solved in 54 episodes!\tAverage Score: 196.42\n"
     ]
    }
   ],
   "source": [
    "### Hill-Climbing with ANS\n",
    "\n",
    "i = 0\n",
    "sample_hc_ans = []\n",
    "while i < 100:\n",
    "    policy_hc_ans = PolicyNet(pop_size=1)\n",
    "    sample_hc_ans.append(hill_climbing(policy_hc_ans, print_every=1000))\n",
    "    i+=1"
   ]
  },
  {
   "cell_type": "code",
   "execution_count": 77,
   "metadata": {},
   "outputs": [
    {
     "name": "stdout",
     "output_type": "stream",
     "text": [
      "Environment solved in 1 episodes!\tAverage Score: 200.00\n",
      "Environment solved in 3 episodes!\tAverage Score: 195.32\n",
      "Environment solved in 1 episodes!\tAverage Score: 198.12\n",
      "Environment solved in 1 episodes!\tAverage Score: 200.00\n",
      "Environment solved in 1 episodes!\tAverage Score: 200.00\n",
      "Environment solved in 1 episodes!\tAverage Score: 200.00\n",
      "Environment solved in 1 episodes!\tAverage Score: 198.35\n",
      "Environment solved in 1 episodes!\tAverage Score: 199.73\n",
      "Environment solved in 1 episodes!\tAverage Score: 197.54\n",
      "Environment solved in 1 episodes!\tAverage Score: 197.92\n",
      "Environment solved in 1 episodes!\tAverage Score: 200.00\n",
      "Environment solved in 1 episodes!\tAverage Score: 199.64\n",
      "Environment solved in 1 episodes!\tAverage Score: 198.49\n",
      "Environment solved in 1 episodes!\tAverage Score: 199.86\n",
      "Environment solved in 1 episodes!\tAverage Score: 198.11\n",
      "Environment solved in 1 episodes!\tAverage Score: 197.47\n",
      "Environment solved in 1 episodes!\tAverage Score: 199.96\n",
      "Environment solved in 1 episodes!\tAverage Score: 197.36\n",
      "Environment solved in 47 episodes!\tAverage Score: 195.17\n",
      "Environment solved in 1 episodes!\tAverage Score: 199.17\n",
      "Environment solved in 3 episodes!\tAverage Score: 195.64\n",
      "Environment solved in 1 episodes!\tAverage Score: 200.00\n",
      "Environment solved in 1 episodes!\tAverage Score: 199.55\n",
      "Environment solved in 1 episodes!\tAverage Score: 198.14\n",
      "Environment solved in 1 episodes!\tAverage Score: 199.92\n",
      "Environment solved in 1 episodes!\tAverage Score: 198.87\n",
      "Environment solved in 1 episodes!\tAverage Score: 199.46\n",
      "Environment solved in 8 episodes!\tAverage Score: 195.68\n",
      "Environment solved in 1 episodes!\tAverage Score: 198.59\n",
      "Environment solved in 1 episodes!\tAverage Score: 195.32\n",
      "Environment solved in 1 episodes!\tAverage Score: 196.25\n",
      "Environment solved in 1 episodes!\tAverage Score: 196.15\n",
      "Environment solved in 1 episodes!\tAverage Score: 195.77\n",
      "Environment solved in 1 episodes!\tAverage Score: 199.68\n",
      "Environment solved in 1 episodes!\tAverage Score: 199.84\n",
      "Environment solved in 1 episodes!\tAverage Score: 198.24\n",
      "Environment solved in 1 episodes!\tAverage Score: 198.71\n",
      "Environment solved in 1 episodes!\tAverage Score: 197.41\n",
      "Environment solved in 9 episodes!\tAverage Score: 195.79\n",
      "Environment solved in 1 episodes!\tAverage Score: 198.93\n",
      "Environment solved in 1 episodes!\tAverage Score: 198.12\n",
      "Environment solved in 1 episodes!\tAverage Score: 196.06\n",
      "Environment solved in 1 episodes!\tAverage Score: 196.96\n",
      "Environment solved in 1 episodes!\tAverage Score: 199.44\n",
      "Environment solved in 1 episodes!\tAverage Score: 195.08\n",
      "Environment solved in 1 episodes!\tAverage Score: 195.57\n",
      "Environment solved in 1 episodes!\tAverage Score: 199.12\n",
      "Environment solved in 1 episodes!\tAverage Score: 199.69\n",
      "Environment solved in 93 episodes!\tAverage Score: 195.71\n",
      "Environment solved in 1 episodes!\tAverage Score: 196.97\n",
      "Environment solved in 1 episodes!\tAverage Score: 200.00\n",
      "Environment solved in 1 episodes!\tAverage Score: 198.85\n",
      "Environment solved in 85 episodes!\tAverage Score: 195.05\n",
      "Environment solved in 1 episodes!\tAverage Score: 200.00\n",
      "Environment solved in 1 episodes!\tAverage Score: 199.46\n",
      "Environment solved in 1 episodes!\tAverage Score: 198.13\n",
      "Environment solved in 1 episodes!\tAverage Score: 198.12\n",
      "Environment solved in 1 episodes!\tAverage Score: 199.42\n",
      "Environment solved in 1 episodes!\tAverage Score: 198.26\n",
      "Environment solved in 1 episodes!\tAverage Score: 200.00\n",
      "Environment solved in 1 episodes!\tAverage Score: 195.21\n",
      "Environment solved in 1 episodes!\tAverage Score: 199.15\n",
      "Environment solved in 2 episodes!\tAverage Score: 195.43\n",
      "Environment solved in 1 episodes!\tAverage Score: 200.00\n",
      "Environment solved in 1 episodes!\tAverage Score: 199.32\n",
      "Environment solved in 29 episodes!\tAverage Score: 195.16\n",
      "Environment solved in 1 episodes!\tAverage Score: 199.98\n",
      "Environment solved in 1 episodes!\tAverage Score: 199.77\n",
      "Environment solved in 1 episodes!\tAverage Score: 198.25\n",
      "Environment solved in 1 episodes!\tAverage Score: 198.76\n",
      "Environment solved in 1 episodes!\tAverage Score: 196.72\n",
      "Environment solved in 1 episodes!\tAverage Score: 198.87\n",
      "Environment solved in 1 episodes!\tAverage Score: 200.00\n",
      "Environment solved in 1 episodes!\tAverage Score: 198.91\n",
      "Environment solved in 1 episodes!\tAverage Score: 198.94\n",
      "Environment solved in 1 episodes!\tAverage Score: 199.34\n",
      "Environment solved in 1 episodes!\tAverage Score: 195.68\n",
      "Environment solved in 1 episodes!\tAverage Score: 200.00\n",
      "Environment solved in 1 episodes!\tAverage Score: 198.35\n",
      "Environment solved in 1 episodes!\tAverage Score: 196.36\n",
      "Environment solved in 1 episodes!\tAverage Score: 200.00\n",
      "Environment solved in 3 episodes!\tAverage Score: 195.14\n",
      "Environment solved in 5 episodes!\tAverage Score: 195.11\n",
      "Environment solved in 1 episodes!\tAverage Score: 199.86\n",
      "Environment solved in 1 episodes!\tAverage Score: 199.81\n",
      "Environment solved in 1 episodes!\tAverage Score: 199.66\n",
      "Environment solved in 1 episodes!\tAverage Score: 196.21\n",
      "Environment solved in 1 episodes!\tAverage Score: 200.00\n",
      "Environment solved in 1 episodes!\tAverage Score: 199.03\n",
      "Environment solved in 1 episodes!\tAverage Score: 200.00\n",
      "Environment solved in 1 episodes!\tAverage Score: 199.30\n",
      "Environment solved in 1 episodes!\tAverage Score: 199.76\n",
      "Environment solved in 1 episodes!\tAverage Score: 197.47\n",
      "Environment solved in 1 episodes!\tAverage Score: 200.00\n",
      "Environment solved in 1 episodes!\tAverage Score: 196.49\n",
      "Environment solved in 1 episodes!\tAverage Score: 199.33\n",
      "Environment solved in 1 episodes!\tAverage Score: 200.00\n",
      "Environment solved in 1 episodes!\tAverage Score: 198.93\n",
      "Environment solved in 1 episodes!\tAverage Score: 198.70\n",
      "Environment solved in 1 episodes!\tAverage Score: 196.78\n"
     ]
    }
   ],
   "source": [
    "### Steepest Ascent Hill-Climbing\n",
    "\n",
    "i = 0\n",
    "sample_steepest = []\n",
    "while i < 100:\n",
    "    policy_steepest = PolicyNet(pop_size=10)\n",
    "    sample_steepest.append(steepest_hill_climbing(policy_steepest, print_every=1000))\n",
    "    i+=1"
   ]
  },
  {
   "cell_type": "code",
   "execution_count": 17,
   "metadata": {},
   "outputs": [
    {
     "name": "stdout",
     "output_type": "stream",
     "text": [
      "Environment solved in 1 episodes!\tAverage Score: 198.89\n",
      "Environment solved in 1 episodes!\tAverage Score: 198.77\n",
      "Environment solved in 1 episodes!\tAverage Score: 197.35\n",
      "Environment solved in 1 episodes!\tAverage Score: 200.00\n",
      "Environment solved in 1 episodes!\tAverage Score: 197.87\n",
      "Environment solved in 1 episodes!\tAverage Score: 196.35\n",
      "Environment solved in 1 episodes!\tAverage Score: 196.52\n",
      "Environment solved in 1 episodes!\tAverage Score: 200.00\n",
      "Environment solved in 1 episodes!\tAverage Score: 200.00\n",
      "Environment solved in 1 episodes!\tAverage Score: 200.00\n",
      "Environment solved in 1 episodes!\tAverage Score: 198.35\n",
      "Environment solved in 1 episodes!\tAverage Score: 199.06\n",
      "Environment solved in 1 episodes!\tAverage Score: 199.73\n",
      "Environment solved in 1 episodes!\tAverage Score: 199.74\n",
      "Environment solved in 1 episodes!\tAverage Score: 196.94\n",
      "Environment solved in 15 episodes!\tAverage Score: 196.42\n",
      "Environment solved in 1 episodes!\tAverage Score: 198.86\n",
      "Environment solved in 1 episodes!\tAverage Score: 200.00\n",
      "Environment solved in 1 episodes!\tAverage Score: 198.85\n",
      "Environment solved in 1 episodes!\tAverage Score: 199.54\n",
      "Environment solved in 1 episodes!\tAverage Score: 197.81\n",
      "Environment solved in 31 episodes!\tAverage Score: 195.43\n",
      "Environment solved in 1 episodes!\tAverage Score: 199.31\n",
      "Environment solved in 1 episodes!\tAverage Score: 197.43\n",
      "Environment solved in 1 episodes!\tAverage Score: 199.21\n",
      "Environment solved in 1 episodes!\tAverage Score: 196.58\n",
      "Environment solved in 1 episodes!\tAverage Score: 200.00\n",
      "Environment solved in 1 episodes!\tAverage Score: 198.78\n",
      "Environment solved in 1 episodes!\tAverage Score: 200.00\n",
      "Environment solved in 1 episodes!\tAverage Score: 199.15\n",
      "Environment solved in 3 episodes!\tAverage Score: 195.56\n",
      "Environment solved in 1 episodes!\tAverage Score: 200.00\n",
      "Environment solved in 1 episodes!\tAverage Score: 197.46\n",
      "Environment solved in 1 episodes!\tAverage Score: 199.66\n",
      "Environment solved in 1 episodes!\tAverage Score: 199.54\n",
      "Environment solved in 1 episodes!\tAverage Score: 199.75\n",
      "Environment solved in 1 episodes!\tAverage Score: 200.00\n",
      "Environment solved in 1 episodes!\tAverage Score: 200.00\n",
      "Environment solved in 1 episodes!\tAverage Score: 195.43\n",
      "Environment solved in 3 episodes!\tAverage Score: 195.31\n",
      "Environment solved in 5 episodes!\tAverage Score: 195.24\n",
      "Environment solved in 1 episodes!\tAverage Score: 198.78\n",
      "Environment solved in 1 episodes!\tAverage Score: 200.00\n",
      "Environment solved in 1 episodes!\tAverage Score: 199.63\n",
      "Environment solved in 1 episodes!\tAverage Score: 195.38\n",
      "Environment solved in 1 episodes!\tAverage Score: 200.00\n",
      "Environment solved in 1 episodes!\tAverage Score: 197.97\n",
      "Environment solved in 1 episodes!\tAverage Score: 198.63\n",
      "Environment solved in 1 episodes!\tAverage Score: 198.99\n",
      "Environment solved in 46 episodes!\tAverage Score: 196.29\n",
      "Environment solved in 1 episodes!\tAverage Score: 200.00\n",
      "Environment solved in 1 episodes!\tAverage Score: 197.93\n",
      "Environment solved in 8 episodes!\tAverage Score: 195.66\n",
      "Environment solved in 1 episodes!\tAverage Score: 200.00\n",
      "Environment solved in 1 episodes!\tAverage Score: 198.34\n",
      "Environment solved in 1 episodes!\tAverage Score: 200.00\n",
      "Environment solved in 1 episodes!\tAverage Score: 198.97\n",
      "Environment solved in 1 episodes!\tAverage Score: 199.80\n",
      "Environment solved in 1 episodes!\tAverage Score: 195.44\n",
      "Environment solved in 1 episodes!\tAverage Score: 197.79\n",
      "Environment solved in 1 episodes!\tAverage Score: 199.54\n",
      "Environment solved in 1 episodes!\tAverage Score: 199.60\n",
      "Environment solved in 1 episodes!\tAverage Score: 197.53\n",
      "Environment solved in 1 episodes!\tAverage Score: 199.60\n",
      "Environment solved in 1 episodes!\tAverage Score: 198.07\n",
      "Environment solved in 1 episodes!\tAverage Score: 195.63\n",
      "Environment solved in 6 episodes!\tAverage Score: 195.01\n",
      "Environment solved in 1 episodes!\tAverage Score: 197.36\n",
      "Environment solved in 1 episodes!\tAverage Score: 198.54\n",
      "Environment solved in 1 episodes!\tAverage Score: 200.00\n",
      "Environment solved in 1 episodes!\tAverage Score: 198.13\n",
      "Environment solved in 1 episodes!\tAverage Score: 200.00\n",
      "Environment solved in 4 episodes!\tAverage Score: 195.00\n",
      "Environment solved in 1 episodes!\tAverage Score: 198.35\n",
      "Environment solved in 1 episodes!\tAverage Score: 197.89\n",
      "Environment solved in 1 episodes!\tAverage Score: 197.07\n",
      "Environment solved in 1 episodes!\tAverage Score: 196.84\n",
      "Environment solved in 1 episodes!\tAverage Score: 199.78\n",
      "Environment solved in 1 episodes!\tAverage Score: 195.10\n",
      "Environment solved in 1 episodes!\tAverage Score: 197.90\n",
      "Environment solved in 1 episodes!\tAverage Score: 199.30\n",
      "Environment solved in 1 episodes!\tAverage Score: 200.00\n",
      "Environment solved in 9 episodes!\tAverage Score: 195.77\n",
      "Environment solved in 1 episodes!\tAverage Score: 197.35\n",
      "Environment solved in 1 episodes!\tAverage Score: 198.08\n",
      "Environment solved in 1 episodes!\tAverage Score: 197.88\n",
      "Environment solved in 4 episodes!\tAverage Score: 196.38\n",
      "Environment solved in 1 episodes!\tAverage Score: 198.12\n",
      "Environment solved in 1 episodes!\tAverage Score: 199.15\n",
      "Environment solved in 1 episodes!\tAverage Score: 199.84\n",
      "Environment solved in 1 episodes!\tAverage Score: 198.13\n",
      "Environment solved in 1 episodes!\tAverage Score: 200.00\n",
      "Environment solved in 1 episodes!\tAverage Score: 200.00\n",
      "Environment solved in 1 episodes!\tAverage Score: 200.00\n",
      "Environment solved in 1 episodes!\tAverage Score: 198.59\n",
      "Environment solved in 1 episodes!\tAverage Score: 198.14\n",
      "Environment solved in 1 episodes!\tAverage Score: 198.12\n",
      "Environment solved in 1 episodes!\tAverage Score: 199.25\n",
      "Environment solved in 1 episodes!\tAverage Score: 200.00\n",
      "Environment solved in 1 episodes!\tAverage Score: 200.00\n"
     ]
    }
   ],
   "source": [
    "## CEM Hill-Climbing\n",
    "\n",
    "i = 0\n",
    "sample_steepest_topk = []\n",
    "while i < 100:\n",
    "    policy_steepest_topk = PolicyNet(pop_size=10)\n",
    "    sample_steepest_topk.append(steepest_hill_climbing_topk(policy_steepest_topk, topk=3, print_every=1000))\n",
    "    i+=1"
   ]
  },
  {
   "cell_type": "code",
   "execution_count": 78,
   "metadata": {},
   "outputs": [],
   "source": [
    "results = np.empty((100,3))\n",
    "\n",
    "for i in range(100):\n",
    "    results[i,0]=len(sample_hc_ans[i])-99\n",
    "    results[i,1]=len(sample_steepest[i])-99\n",
    "    results[i,2]=len(sample_steepest_topk[i])-99"
   ]
  },
  {
   "cell_type": "code",
   "execution_count": 79,
   "metadata": {},
   "outputs": [
    {
     "data": {
      "image/png": "[encoded data removed]",
      "text/plain": [
       "<Figure size 864x432 with 3 Axes>"
      ]
     },
     "metadata": {
      "needs_background": "light"
     },
     "output_type": "display_data"
    }
   ],
   "source": [
    "fig, (ax1, ax2, ax3) = plt.subplots(1,3, figsize=(12,6), sharex=False, sharey=False)\n",
    "\n",
    "ax1.hist(results[:,0], bins=np.arange(0,1000,10));\n",
    "ax1.set_title('Hill-Climbing ANS');\n",
    "ax1.set_yticks(range(0,25,5));\n",
    "ax1.set_ylim(bottom=0, top=20);\n",
    "ax1.text(400,18, 'Avg of {} episodes\\nto solve.'.format( int(np.mean(results[:,0][np.where(results[:,0]<800)[0]])) ));\n",
    "ax2.hist(results[:,1], bins=np.arange(0,100,2), color='orange');\n",
    "ax2.set_title('Steepest Ascent');\n",
    "ax2.set_yticks(range(0,125,25));\n",
    "ax2.text(40,90,'Avg of {} episodes\\nto solve.'.format(np.mean(results[:,1])));\n",
    "ax3.hist(results[:,2], bins=np.arange(0,100,2), color='green');\n",
    "ax3.set_title('Cross-Entropy');\n",
    "ax3.set_yticks(range(0,125,25));\n",
    "ax3.text(40,90,'Avg of {} episodes\\nto solve.'.format(np.mean(results[:,2])));"
   ]
  },
  {
   "cell_type": "markdown",
   "metadata": {},
   "source": [
    "Hill-climbing worked well in general but it failed to converge on 7% of cases, even with adaptive noise scaling. Steepest ascent approaches, where 10 candidate policies were generated every time, clearly helped, showing convergence on 100% of cases and very fast solving rates. Note the different x axis label.  \n",
    "\n",
    "Out of curiosity, let's have a quick look at the impact of generating different numbers of candidate policies by testing agents with 3 and 5 candidate policies."
   ]
  },
  {
   "cell_type": "markdown",
   "metadata": {},
   "source": [
    "### Steepest Ascent Hill-Climbing pop size comparison\n",
    "\n",
    "i = 0\n",
    "steepest_3 = []\n",
    "steepest_5 = []\n",
    "while i < 100:\n",
    "    policy_steepest = PolicyNet(pop_size=3)\n",
    "    steepest_3.append(steepest_hill_climbing(policy_steepest, print_every=1000))\n",
    "    \n",
    "    policy_steepest = PolicyNet(pop_size=5)\n",
    "    steepest_5.append(steepest_hill_climbing(policy_steepest, print_every=1000))\n",
    "    i+=1"
   ]
  },
  {
   "cell_type": "code",
   "execution_count": 100,
   "metadata": {},
   "outputs": [
    {
     "data": {
      "image/png": "[encoded data removed]",
      "text/plain": [
       "<Figure size 864x432 with 3 Axes>"
      ]
     },
     "metadata": {
      "needs_background": "light"
     },
     "output_type": "display_data"
    },
    {
     "data": {
      "image/png": "[encoded data removed]",
      "text/plain": [
       "<Figure size 432x288 with 1 Axes>"
      ]
     },
     "metadata": {
      "needs_background": "light"
     },
     "output_type": "display_data"
    }
   ],
   "source": [
    "fig, (ax1, ax2, ax3) = plt.subplots(1,3, figsize=(12,6), sharex=False, sharey=False)\n",
    "\n",
    "ax1.hist([len(i)-99 for i in steepest_3], bins=np.arange(0,1000,10));\n",
    "ax1.set_title('3 Candidates');\n",
    "ax1.set_yticks(range(0,125,25));\n",
    "ax1.text(400,90, 'Avg of {} episodes\\nto solve.'.format( np.mean([len(i)-99 for i in steepest_3]) ));\n",
    "\n",
    "ax2.hist([len(i)-99 for i in steepest_5], bins=np.arange(0,1000,10), color='orange');\n",
    "ax2.set_title('5 Candidates');\n",
    "ax2.set_yticks(range(0,125,25));\n",
    "ax2.text(400,90,'Avg of {} episodes\\nto solve.'.format( np.mean([len(i)-99 for i in steepest_5]) ));\n",
    "\n",
    "ax3.hist(results[:,1], bins=np.arange(0,100,2), color='green');\n",
    "ax3.set_title('10 Candidates');\n",
    "ax3.set_yticks(range(0,125,25));\n",
    "ax3.text(40,90,'Avg of {} episodes\\nto solve.'.format(np.mean(results[:,1])));\n",
    "\n",
    "plt.figure();\n",
    "plt.plot([1,3,5,10], [45, 38.99, 19.49, 3.76]);\n",
    "plt.ylabel('Average Episodes to Solve', fontweight='bold');\n",
    "plt.xlabel('Number of candidate policies', fontweight='bold');\n",
    "plt.xticks([1,3,5,10]);"
   ]
  },
  {
   "cell_type": "markdown",
   "metadata": {},
   "source": [
    "Clearly, generating more candidate policies has a huge effect. It's more costly computationally to generate more policies, but in a simple task like Cartpole, which has a very small parameter space, it is highly likely that one of the random initialisations will strike lucky. The more candidate policies we generate, the more likely it is that we immediately solve the environment, or do so within very few episodes of optimisation."
   ]
  },
  {
   "cell_type": "code",
   "execution_count": null,
   "metadata": {},
   "outputs": [],
   "source": []
  }
 ],
 "metadata": {
  "kernelspec": {
   "display_name": "drlnd",
   "language": "python",
   "name": "drlnd"
  },
  "language_info": {
   "codemirror_mode": {
    "name": "ipython",
    "version": 3
   },
   "file_extension": ".py",
   "mimetype": "text/x-python",
   "name": "python",
   "nbconvert_exporter": "python",
   "pygments_lexer": "ipython3",
   "version": "3.6.10"
  }
 },
 "nbformat": 4,
 "nbformat_minor": 4
}
