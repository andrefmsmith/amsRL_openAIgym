{
 "cells": [
  {
   "cell_type": "code",
   "execution_count": 80,
   "metadata": {},
   "outputs": [],
   "source": [
    "import gym\n",
    "import math\n",
    "import numpy as np\n",
    "from collections import deque\n",
    "import matplotlib.pyplot as plt\n",
    "%matplotlib inline\n",
    "\n",
    "import torch\n",
    "import torch.nn as nn\n",
    "import torch.nn.functional as F\n",
    "import torch.optim as optim\n",
    "device = torch.device(\"cuda:0\" if torch.cuda.is_available() else \"cpu\")"
   ]
  },
  {
   "cell_type": "code",
   "execution_count": 81,
   "metadata": {},
   "outputs": [
    {
     "name": "stdout",
     "output_type": "stream",
     "text": [
      "cpu\n"
     ]
    }
   ],
   "source": [
    "env = gym.make(\"PongDeterministic-v4\")\n",
    "RIGHT = 4\n",
    "LEFT = 5\n",
    "NOOP = 0\n",
    "print(device)"
   ]
  },
  {
   "cell_type": "code",
   "execution_count": 82,
   "metadata": {},
   "outputs": [],
   "source": [
    "def preprocess(frames, bg=(144,109)):\n",
    "    i = np.asarray(frames)\n",
    "\n",
    "    crop = [frame[35:195,:,:] for frame in i]\n",
    "    downsample = np.asarray([frame[::2,::2,0] for frame in crop])\n",
    "    for frame in downsample:\n",
    "        frame[frame==bg[0]] = 0\n",
    "        frame[frame==bg[1]] = 0\n",
    "        frame[frame!=0] = 1\n",
    "\n",
    "    return torch.from_numpy(downsample).float().to(device)"
   ]
  },
  {
   "cell_type": "code",
   "execution_count": 83,
   "metadata": {},
   "outputs": [],
   "source": [
    "class Policy(nn.Module):\n",
    "\n",
    "    def __init__(self):\n",
    "        super(Policy, self).__init__()\n",
    "        self.conv1 = nn.Conv2d(2, 4, kernel_size=6, stride=2, bias=False)\n",
    "        self.conv2 = nn.Conv2d(4, 16, kernel_size=6, stride=4)\n",
    "        self.size=9*9*16\n",
    "        \n",
    "        self.fc1 = nn.Linear(self.size, 256)\n",
    "        self.fc2 = nn.Linear(256, 1)\n",
    "\n",
    "        self.sig = nn.Sigmoid()\n",
    "        \n",
    "    def forward(self, x):\n",
    "        x = F.relu(self.conv1(x))\n",
    "        x = F.relu(self.conv2(x))\n",
    "        x = x.view(-1,self.size)\n",
    "        x = F.relu(self.fc1(x))\n",
    "        return self.sig(self.fc2(x))"
   ]
  },
  {
   "cell_type": "code",
   "execution_count": 87,
   "metadata": {},
   "outputs": [],
   "source": [
    "def train_pong(env, policy, tmax=200, b_size=8, n_batches=30, gamma = 0.99):\n",
    "    score = deque(maxlen=b_size)\n",
    "    scores = []\n",
    "    b=0\n",
    "    \n",
    "    while b<n_batches:\n",
    "        states=[]\n",
    "        actions=[]\n",
    "        rewards=[]\n",
    "        probs=[]\n",
    "        \n",
    "        for i_episode in range(b_size*b, (b+1)*b_size):\n",
    "            env.reset()\n",
    "            fr1, _, _, _ = env.step(np.random.choice([RIGHT, LEFT]))\n",
    "            fr2, _, _, _ = env.step([0])\n",
    "            ep_reward = []\n",
    "            \n",
    "            for t in range(tmax):\n",
    "                x = preprocess([fr1,fr2])\n",
    "                p = policy(x.unsqueeze(0))[0][0]#.cpu().detach()\n",
    "                a = np.where(np.random.rand()<p, RIGHT, LEFT)\n",
    "                \n",
    "                fr1, r1, done, _ = env.step(a)\n",
    "                fr2, r2, done, _ = env.step(NOOP)\n",
    "                r = r1+r2\n",
    "                \n",
    "                states.append(x)\n",
    "                actions.append(a)\n",
    "                rewards.append(r)\n",
    "                ep_reward.append(r)\n",
    "                probs.append(p)\n",
    "                \n",
    "                if done:\n",
    "                    break\n",
    "        \n",
    "            score.append(np.sum(ep_reward, axis=0))\n",
    "            scores.append(np.sum(ep_reward, axis=0))\n",
    "        \n",
    "        \n",
    "        discount = np.tile(gamma**np.arange(tmax), b_size)\n",
    "        \n",
    "        rewards = rewards*discount\n",
    "        rewards = np.array(rewards).reshape(tmax, b_size)\n",
    "        \n",
    "        probs = torch.stack(probs)#.log()\n",
    "        \n",
    "        rewards_future = rewards[::-1].cumsum(axis=0)[::-1]\n",
    "        r_mean = np.mean(rewards_future, axis = 1)\n",
    "        r_std = np.std(rewards_future, axis = 1)+1.0e-10\n",
    "        rewards_norm = (rewards_future - r_mean[:,np.newaxis])/r_std[:,np.newaxis]\n",
    "        \n",
    "        rewards = torch.tensor(rewards_norm, dtype=torch.float, device=device)\n",
    "        rewards = torch.reshape(rewards, (tmax*b_size,1))#.cpu().detach()\n",
    "        \n",
    "        ##\n",
    "        #states = torch.stack(states)\n",
    "        #policy_input = states.view(-1,*states.shape[-3:])\n",
    "        #new_probs = policy(policy_input).view(states.shape[:-3])\n",
    "        ##\n",
    "\n",
    "        L = -torch.mean(probs.log() * rewards)\n",
    "        optimizer.zero_grad()\n",
    "        L.backward()\n",
    "        optimizer.step()\n",
    "        \n",
    "        print('Batch #{}/{}:\\tAverage Score {:.2f}\\tLoss {:.4f}'.format(b+1,\n",
    "                                                                        n_batches,\n",
    "                                                                        np.mean(score), L))\n",
    "        \n",
    "        del L\n",
    "        b+=1\n",
    "    \n",
    "    return scores"
   ]
  },
  {
   "cell_type": "code",
   "execution_count": 96,
   "metadata": {},
   "outputs": [
    {
     "name": "stdout",
     "output_type": "stream",
     "text": [
      "Batch #1/30:\tAverage Score -6.00\tLoss 0.0000\n",
      "Batch #2/30:\tAverage Score -6.25\tLoss 0.0000\n",
      "Batch #3/30:\tAverage Score -6.12\tLoss 0.0000\n",
      "Batch #4/30:\tAverage Score -6.50\tLoss 0.0000\n",
      "Batch #5/30:\tAverage Score -6.12\tLoss -0.0000\n",
      "Batch #6/30:\tAverage Score -5.88\tLoss 0.0000\n",
      "Batch #7/30:\tAverage Score -5.62\tLoss -0.0000\n",
      "Batch #8/30:\tAverage Score -6.25\tLoss -0.0000\n",
      "Batch #9/30:\tAverage Score -5.88\tLoss 0.0000\n",
      "Batch #10/30:\tAverage Score -6.62\tLoss -0.0000\n",
      "Batch #11/30:\tAverage Score -6.38\tLoss 0.0000\n",
      "Batch #12/30:\tAverage Score -6.62\tLoss 0.0000\n",
      "Batch #13/30:\tAverage Score -6.88\tLoss -0.0000\n",
      "Batch #14/30:\tAverage Score -6.25\tLoss 0.0000\n",
      "Batch #15/30:\tAverage Score -5.75\tLoss -0.0000\n",
      "Batch #16/30:\tAverage Score -6.12\tLoss 0.0000\n",
      "Batch #17/30:\tAverage Score -6.25\tLoss 0.0000\n",
      "Batch #18/30:\tAverage Score -6.62\tLoss 0.0000\n",
      "Batch #19/30:\tAverage Score -6.12\tLoss -0.0000\n",
      "Batch #20/30:\tAverage Score -6.00\tLoss -0.0000\n",
      "Batch #21/30:\tAverage Score -6.62\tLoss 0.0000\n",
      "Batch #22/30:\tAverage Score -6.50\tLoss -0.0000\n",
      "Batch #23/30:\tAverage Score -6.00\tLoss -0.0000\n",
      "Batch #24/30:\tAverage Score -6.12\tLoss 0.0000\n",
      "Batch #25/30:\tAverage Score -6.12\tLoss 0.0000\n",
      "Batch #26/30:\tAverage Score -5.50\tLoss -0.0000\n",
      "Batch #27/30:\tAverage Score -5.88\tLoss 0.0000\n",
      "Batch #28/30:\tAverage Score -5.88\tLoss 0.0000\n",
      "Batch #29/30:\tAverage Score -6.38\tLoss -0.0000\n",
      "Batch #30/30:\tAverage Score -5.88\tLoss -0.0000\n"
     ]
    }
   ],
   "source": [
    "#policy=Policy().to(device)\n",
    "optimizer = optim.Adam(policy.parameters(), lr=1e-4)\n",
    "scores = train_pong(env, policy, tmax=150, b_size=8, n_batches=30, gamma = 0.999)"
   ]
  },
  {
   "cell_type": "code",
   "execution_count": 97,
   "metadata": {},
   "outputs": [
    {
     "data": {
      "text/plain": [
       "[<matplotlib.lines.Line2D at 0x1426aae48>]"
      ]
     },
     "execution_count": 97,
     "metadata": {},
     "output_type": "execute_result"
    },
    {
     "data": {
      "image/png": "[encoded data removed]",
      "text/plain": [
       "<Figure size 432x288 with 1 Axes>"
      ]
     },
     "metadata": {
      "needs_background": "light"
     },
     "output_type": "display_data"
    }
   ],
   "source": [
    "plt.plot(scores)"
   ]
  },
  {
   "cell_type": "code",
   "execution_count": 192,
   "metadata": {},
   "outputs": [],
   "source": [
    "policy=Policy().to(device)\n",
    "b=0\n",
    "score = []"
   ]
  },
  {
   "cell_type": "code",
   "execution_count": 247,
   "metadata": {},
   "outputs": [],
   "source": [
    "\n",
    "b_size = 4\n",
    "tmax=200\n",
    "\n",
    "\n",
    "rewards=np.zeros((tmax, b_size), dtype='float')\n",
    "probs=torch.zeros((tmax, b_size), dtype=torch.float)\n"
   ]
  },
  {
   "cell_type": "code",
   "execution_count": 248,
   "metadata": {},
   "outputs": [],
   "source": [
    "\n",
    "for i_episode in range(b_size*b, (b+1)*b_size):\n",
    "    env.reset()\n",
    "\n",
    "    fr1, _, _, _ = env.step(np.random.choice([RIGHT, LEFT]))\n",
    "    fr2, _, _, _ = env.step([0])\n",
    "    ep_r = 0\n",
    "\n",
    "    for t in range(tmax):\n",
    "        x = preprocess([fr1,fr2])\n",
    "        p = policy(x.unsqueeze(0))[0][0]\n",
    "        a = np.where(np.random.rand()<p, RIGHT, LEFT)\n",
    "\n",
    "        fr1, r1, done, _ = env.step(a)\n",
    "        fr2, r2, done, _ = env.step(NOOP)\n",
    "        r = r1+r2\n",
    "\n",
    "        rewards[t, i_episode%b_size] = r\n",
    "        probs[t, i_episode%b_size] = p\n",
    "        \n",
    "        ep_r += r\n",
    "\n",
    "        if done:\n",
    "            break\n",
    "\n",
    "    score.append(ep_r)"
   ]
  },
  {
   "cell_type": "code",
   "execution_count": 249,
   "metadata": {},
   "outputs": [],
   "source": [
    "rewards_future = rewards[::-1].cumsum(axis=0)[::-1]\n",
    "r_mean = np.mean(rewards_future, axis = 1)\n",
    "r_std = np.std(rewards_future, axis = 1)+1.0e-10\n",
    "rewards_norm = (rewards_future - r_mean[:,np.newaxis])/r_std[:,np.newaxis]"
   ]
  },
  {
   "cell_type": "code",
   "execution_count": 250,
   "metadata": {},
   "outputs": [],
   "source": [
    "rewards = torch.tensor(rewards_norm, dtype=torch.float, device=device)"
   ]
  },
  {
   "cell_type": "code",
   "execution_count": 251,
   "metadata": {},
   "outputs": [],
   "source": [
    "L=-torch.mean(rewards*probs.log())"
   ]
  },
  {
   "cell_type": "code",
   "execution_count": 252,
   "metadata": {},
   "outputs": [],
   "source": [
    "optimizer.zero_grad()\n",
    "L.backward()\n",
    "optimizer.step()"
   ]
  },
  {
   "cell_type": "code",
   "execution_count": 253,
   "metadata": {},
   "outputs": [
    {
     "name": "stdout",
     "output_type": "stream",
     "text": [
      "-8.0 tensor(1.00000e-06 *\n",
      "       9.2140)\n"
     ]
    }
   ],
   "source": [
    "print(np.mean(score), L)\n",
    "b+=1"
   ]
  },
  {
   "cell_type": "code",
   "execution_count": 305,
   "metadata": {},
   "outputs": [],
   "source": [
    "############\n",
    "policy=Policy().to(device)\n",
    "optimizer = optim.Adam(policy.parameters(), lr=2e-4)"
   ]
  },
  {
   "cell_type": "code",
   "execution_count": 306,
   "metadata": {},
   "outputs": [],
   "source": [
    "b_size = 10\n",
    "tmax = 150\n",
    "nb = 200\n",
    "\n",
    "b = 0\n",
    "score = []\n",
    "loss = []"
   ]
  },
  {
   "cell_type": "code",
   "execution_count": 307,
   "metadata": {},
   "outputs": [
    {
     "name": "stdout",
     "output_type": "stream",
     "text": [
      "batch #1/200:\tscore -5.500\tloss0.00041\n",
      "batch #2/200:\tscore -6.000\tloss-0.00042\n",
      "batch #3/200:\tscore -6.600\tloss-0.00010\n",
      "batch #4/200:\tscore -5.300\tloss-0.00004\n",
      "batch #5/200:\tscore -6.300\tloss-0.00160\n",
      "batch #6/200:\tscore -5.500\tloss0.00049\n",
      "batch #7/200:\tscore -4.800\tloss-0.00099\n",
      "batch #8/200:\tscore -6.100\tloss0.00105\n",
      "batch #9/200:\tscore -6.100\tloss-0.00169\n",
      "batch #10/200:\tscore -6.000\tloss-0.00068\n",
      "batch #11/200:\tscore -5.900\tloss-0.00010\n",
      "batch #12/200:\tscore -5.600\tloss-0.00187\n",
      "batch #13/200:\tscore -6.000\tloss0.00108\n",
      "batch #14/200:\tscore -5.400\tloss0.00048\n",
      "batch #15/200:\tscore -5.700\tloss-0.00010\n",
      "batch #16/200:\tscore -6.300\tloss-0.00432\n",
      "batch #17/200:\tscore -6.300\tloss0.00121\n",
      "batch #18/200:\tscore -5.800\tloss0.00131\n",
      "batch #19/200:\tscore -6.000\tloss-0.00100\n",
      "batch #20/200:\tscore -6.100\tloss-0.00310\n",
      "batch #21/200:\tscore -6.000\tloss-0.00050\n",
      "batch #22/200:\tscore -6.400\tloss-0.00098\n",
      "batch #23/200:\tscore -4.400\tloss-0.00161\n",
      "batch #24/200:\tscore -6.000\tloss-0.00161\n",
      "batch #25/200:\tscore -5.100\tloss-0.00158\n",
      "batch #26/200:\tscore -6.000\tloss-0.00446\n",
      "batch #27/200:\tscore -5.900\tloss-0.00516\n",
      "batch #28/200:\tscore -6.000\tloss-0.00007\n",
      "batch #29/200:\tscore -6.500\tloss0.00029\n",
      "batch #30/200:\tscore -5.300\tloss0.00350\n",
      "batch #31/200:\tscore -5.400\tloss-0.00670\n",
      "batch #32/200:\tscore -5.200\tloss0.00143\n",
      "batch #33/200:\tscore -6.200\tloss-0.00063\n",
      "batch #34/200:\tscore -6.600\tloss-0.00217\n",
      "batch #35/200:\tscore -5.000\tloss0.00288\n",
      "batch #36/200:\tscore -6.100\tloss0.00048\n",
      "batch #37/200:\tscore -5.800\tloss0.00501\n",
      "batch #38/200:\tscore -6.200\tloss-0.00234\n",
      "batch #39/200:\tscore -6.200\tloss-0.00224\n",
      "batch #40/200:\tscore -6.600\tloss0.00085\n",
      "batch #41/200:\tscore -6.200\tloss-0.00210\n",
      "batch #42/200:\tscore -6.100\tloss0.00587\n",
      "batch #43/200:\tscore -5.700\tloss0.00798\n",
      "batch #44/200:\tscore -5.700\tloss-0.00558\n",
      "batch #45/200:\tscore -6.200\tloss-0.00483\n",
      "batch #46/200:\tscore -5.900\tloss-0.00209\n",
      "batch #47/200:\tscore -6.000\tloss0.00249\n",
      "batch #48/200:\tscore -5.500\tloss0.00064\n",
      "batch #49/200:\tscore -5.800\tloss-0.00526\n",
      "batch #50/200:\tscore -6.000\tloss0.00706\n",
      "batch #51/200:\tscore -6.300\tloss0.00040\n",
      "batch #52/200:\tscore -5.900\tloss0.00463\n",
      "batch #53/200:\tscore -6.200\tloss0.00004\n",
      "batch #54/200:\tscore -5.700\tloss-0.00162\n",
      "batch #55/200:\tscore -5.500\tloss0.00038\n",
      "batch #56/200:\tscore -5.800\tloss0.00186\n",
      "batch #57/200:\tscore -6.400\tloss-0.00401\n",
      "batch #58/200:\tscore -6.000\tloss-0.00130\n",
      "batch #59/200:\tscore -6.200\tloss0.00191\n",
      "batch #60/200:\tscore -5.800\tloss-0.00628\n",
      "batch #61/200:\tscore -5.100\tloss0.00079\n",
      "batch #62/200:\tscore -6.000\tloss0.00791\n",
      "batch #63/200:\tscore -5.600\tloss-0.00636\n",
      "batch #64/200:\tscore -5.200\tloss-0.00338\n",
      "batch #65/200:\tscore -5.800\tloss0.00304\n",
      "batch #66/200:\tscore -6.200\tloss-0.00079\n",
      "batch #67/200:\tscore -5.800\tloss-0.01122\n",
      "batch #68/200:\tscore -6.100\tloss0.00178\n",
      "batch #69/200:\tscore -6.100\tloss0.00313\n",
      "batch #70/200:\tscore -6.100\tloss-0.00930\n",
      "batch #71/200:\tscore -6.000\tloss0.00434\n",
      "batch #72/200:\tscore -5.700\tloss0.00547\n",
      "batch #73/200:\tscore -5.900\tloss0.00221\n",
      "batch #74/200:\tscore -6.100\tloss-0.00343\n",
      "batch #75/200:\tscore -5.300\tloss0.00058\n",
      "batch #76/200:\tscore -5.700\tloss-0.00022\n",
      "batch #77/200:\tscore -5.800\tloss-0.00095\n",
      "batch #78/200:\tscore -6.500\tloss0.00100\n",
      "batch #79/200:\tscore -6.500\tloss-0.00223\n",
      "batch #80/200:\tscore -6.200\tloss-0.00496\n",
      "batch #81/200:\tscore -6.100\tloss0.00142\n",
      "batch #82/200:\tscore -6.000\tloss0.00292\n",
      "batch #83/200:\tscore -5.400\tloss-0.00242\n",
      "batch #84/200:\tscore -6.500\tloss0.00514\n",
      "batch #85/200:\tscore -6.400\tloss-0.00535\n",
      "batch #86/200:\tscore -4.600\tloss-0.00136\n",
      "batch #87/200:\tscore -6.200\tloss0.00349\n",
      "batch #88/200:\tscore -5.800\tloss-0.00026\n",
      "batch #89/200:\tscore -6.100\tloss0.00628\n",
      "batch #90/200:\tscore -5.300\tloss0.00668\n",
      "batch #91/200:\tscore -6.100\tloss-0.00516\n",
      "batch #92/200:\tscore -6.400\tloss-0.00249\n",
      "batch #93/200:\tscore -5.800\tloss0.00394\n",
      "batch #94/200:\tscore -5.300\tloss-0.00352\n",
      "batch #95/200:\tscore -6.500\tloss-0.00775\n",
      "batch #96/200:\tscore -6.400\tloss-0.00351\n",
      "batch #97/200:\tscore -5.300\tloss-0.00096\n",
      "batch #98/200:\tscore -5.800\tloss-0.00187\n",
      "batch #99/200:\tscore -6.300\tloss0.00894\n",
      "batch #100/200:\tscore -6.300\tloss0.00092\n",
      "batch #101/200:\tscore -6.200\tloss-0.00209\n",
      "batch #102/200:\tscore -6.700\tloss-0.01150\n",
      "batch #103/200:\tscore -6.400\tloss-0.00169\n",
      "batch #104/200:\tscore -6.200\tloss0.00310\n",
      "batch #105/200:\tscore -5.600\tloss-0.00825\n",
      "batch #106/200:\tscore -5.900\tloss-0.01001\n",
      "batch #107/200:\tscore -5.500\tloss-0.00171\n",
      "batch #108/200:\tscore -6.400\tloss-0.00093\n",
      "batch #109/200:\tscore -6.000\tloss0.00435\n",
      "batch #110/200:\tscore -5.600\tloss0.00129\n",
      "batch #111/200:\tscore -5.100\tloss-0.00147\n",
      "batch #112/200:\tscore -5.900\tloss-0.00084\n",
      "batch #113/200:\tscore -5.100\tloss-0.01340\n",
      "batch #114/200:\tscore -6.500\tloss0.00360\n",
      "batch #115/200:\tscore -6.000\tloss-0.00751\n",
      "batch #116/200:\tscore -6.100\tloss0.01172\n",
      "batch #117/200:\tscore -6.300\tloss0.00047\n",
      "batch #118/200:\tscore -5.700\tloss-0.00296\n",
      "batch #119/200:\tscore -6.400\tloss-0.01465\n",
      "batch #120/200:\tscore -6.000\tloss-0.00059\n",
      "batch #121/200:\tscore -4.700\tloss-0.00439\n",
      "batch #122/200:\tscore -6.000\tloss0.00267\n",
      "batch #123/200:\tscore -5.600\tloss-0.00182\n",
      "batch #124/200:\tscore -6.300\tloss0.00745\n",
      "batch #125/200:\tscore -6.100\tloss0.00290\n",
      "batch #126/200:\tscore -6.200\tloss0.00308\n",
      "batch #127/200:\tscore -6.000\tloss-0.00371\n",
      "batch #128/200:\tscore -5.700\tloss0.00416\n",
      "batch #129/200:\tscore -6.300\tloss0.00367\n",
      "batch #130/200:\tscore -6.200\tloss-0.00845\n",
      "batch #131/200:\tscore -5.400\tloss-0.00864\n",
      "batch #132/200:\tscore -6.700\tloss0.00362\n",
      "batch #133/200:\tscore -5.800\tloss-0.00206\n",
      "batch #134/200:\tscore -6.000\tloss0.00566\n",
      "batch #135/200:\tscore -6.300\tloss-0.00308\n",
      "batch #136/200:\tscore -5.800\tloss0.00384\n",
      "batch #137/200:\tscore -6.100\tloss-0.00550\n",
      "batch #138/200:\tscore -5.600\tloss-0.00318\n",
      "batch #139/200:\tscore -6.300\tloss0.00175\n",
      "batch #140/200:\tscore -5.700\tloss0.00469\n",
      "batch #141/200:\tscore -5.300\tloss0.00393\n",
      "batch #142/200:\tscore -5.600\tloss-0.00459\n",
      "batch #143/200:\tscore -6.200\tloss0.00234\n",
      "batch #144/200:\tscore -6.100\tloss0.00184\n",
      "batch #145/200:\tscore -5.900\tloss0.00200\n",
      "batch #146/200:\tscore -6.200\tloss0.00080\n",
      "batch #147/200:\tscore -5.800\tloss-0.01348\n",
      "batch #148/200:\tscore -6.400\tloss-0.00319\n",
      "batch #149/200:\tscore -5.800\tloss0.01004\n",
      "batch #150/200:\tscore -6.300\tloss-0.00820\n",
      "batch #151/200:\tscore -6.100\tloss-0.00745\n",
      "batch #152/200:\tscore -5.600\tloss0.00898\n",
      "batch #153/200:\tscore -5.500\tloss0.00143\n",
      "batch #154/200:\tscore -5.400\tloss0.00580\n",
      "batch #155/200:\tscore -5.700\tloss-0.00484\n",
      "batch #156/200:\tscore -6.500\tloss-0.00413\n",
      "batch #157/200:\tscore -5.700\tloss0.00485\n",
      "batch #158/200:\tscore -5.300\tloss0.00538\n",
      "batch #159/200:\tscore -5.900\tloss0.00294\n",
      "batch #160/200:\tscore -5.500\tloss-0.00300\n",
      "batch #161/200:\tscore -5.900\tloss-0.00188\n",
      "batch #162/200:\tscore -6.100\tloss-0.00373\n",
      "batch #163/200:\tscore -6.300\tloss-0.00789\n",
      "batch #164/200:\tscore -5.200\tloss0.00466\n",
      "batch #165/200:\tscore -6.000\tloss-0.00627\n",
      "batch #166/200:\tscore -6.200\tloss-0.00149\n",
      "batch #167/200:\tscore -6.400\tloss-0.00430\n",
      "batch #168/200:\tscore -5.200\tloss-0.00493\n",
      "batch #169/200:\tscore -5.600\tloss-0.00366\n",
      "batch #170/200:\tscore -5.900\tloss-0.00277\n",
      "batch #171/200:\tscore -6.500\tloss0.00043\n",
      "batch #172/200:\tscore -4.900\tloss0.00080\n",
      "batch #173/200:\tscore -5.200\tloss-0.00275\n",
      "batch #174/200:\tscore -5.600\tloss-0.00072\n",
      "batch #175/200:\tscore -6.100\tloss-0.00094\n",
      "batch #176/200:\tscore -5.700\tloss-0.00024\n",
      "batch #177/200:\tscore -4.700\tloss-0.00573\n",
      "batch #178/200:\tscore -5.800\tloss-0.00147\n",
      "batch #179/200:\tscore -6.400\tloss-0.00536\n",
      "batch #180/200:\tscore -5.900\tloss0.00187\n",
      "batch #181/200:\tscore -6.300\tloss-0.00348\n",
      "batch #182/200:\tscore -5.000\tloss-0.00154\n",
      "batch #183/200:\tscore -5.800\tloss-0.01004\n",
      "batch #184/200:\tscore -6.300\tloss-0.00085\n",
      "batch #185/200:\tscore -6.400\tloss0.00050\n",
      "batch #186/200:\tscore -5.500\tloss0.00349\n",
      "batch #187/200:\tscore -5.600\tloss-0.00244\n",
      "batch #188/200:\tscore -5.900\tloss-0.00335\n",
      "batch #189/200:\tscore -4.900\tloss-0.00339\n",
      "batch #190/200:\tscore -5.500\tloss0.00068\n",
      "batch #191/200:\tscore -6.100\tloss-0.00229\n",
      "batch #192/200:\tscore -5.700\tloss0.00125\n",
      "batch #193/200:\tscore -5.600\tloss-0.00291\n",
      "batch #194/200:\tscore -5.300\tloss0.00300\n",
      "batch #195/200:\tscore -6.100\tloss-0.00618\n",
      "batch #196/200:\tscore -5.300\tloss-0.00170\n",
      "batch #197/200:\tscore -6.000\tloss-0.01029\n",
      "batch #198/200:\tscore -6.300\tloss-0.00121\n",
      "batch #199/200:\tscore -6.000\tloss-0.00601\n",
      "batch #200/200:\tscore -5.600\tloss-0.01591\n"
     ]
    }
   ],
   "source": [
    "while b < nb:\n",
    "    rewards=np.zeros((tmax, b_size), dtype='float')\n",
    "    probs=torch.zeros((tmax, b_size), dtype=torch.float)\n",
    "    actions=torch.zeros((tmax, b_size), dtype=torch.float)\n",
    "\n",
    "    for i_episode in range(b_size*b, (b+1)*b_size):\n",
    "        env.reset()\n",
    "\n",
    "        fr1, _, _, _ = env.step(np.random.choice([RIGHT, LEFT]))\n",
    "        fr2, _, _, _ = env.step([0])\n",
    "        ep_r = 0\n",
    "\n",
    "        for t in range(tmax):\n",
    "            x = preprocess([fr1,fr2])\n",
    "            p = policy(x.unsqueeze(0))[0][0]\n",
    "            a = np.where(np.random.rand()<p.item(), RIGHT, LEFT)\n",
    "\n",
    "            fr1, r1, done, _ = env.step(a)\n",
    "            fr2, r2, done, _ = env.step(NOOP)\n",
    "            r = r1+r2\n",
    "\n",
    "            rewards[t, i_episode%b_size] = r\n",
    "            probs[t, i_episode%b_size] = p\n",
    "            actions[t, i_episode%b_size] = a.item()\n",
    "\n",
    "            ep_r += r\n",
    "\n",
    "            if done:\n",
    "                break\n",
    "\n",
    "        score.append(ep_r)\n",
    "        \n",
    "    probs = torch.where(actions == RIGHT, probs, 1.0-probs)\n",
    "    rewards_future = rewards[::-1].cumsum(axis=0)[::-1]\n",
    "    r_mean = np.mean(rewards_future, axis = 1)\n",
    "    r_std = np.std(rewards_future, axis = 1)+1.0e-10\n",
    "    rewards_norm = (rewards_future - r_mean[:,np.newaxis])/r_std[:,np.newaxis]\n",
    "    rewards = torch.tensor(rewards_norm, dtype=torch.float, device=device)\n",
    "    \n",
    "    L=-(rewards*probs.log()).mean()\n",
    "    \n",
    "    optimizer.zero_grad()\n",
    "    L.backward()\n",
    "    optimizer.step()\n",
    "    loss.append(L)\n",
    "    \n",
    "    \n",
    "    print('batch #{}/{}:\\tscore {:.3f}\\tloss{:.5f}'.format(b+1,nb, np.mean(score[-b_size:]), L  ))\n",
    "    #del L\n",
    "    b+=1"
   ]
  },
  {
   "cell_type": "code",
   "execution_count": 302,
   "metadata": {},
   "outputs": [
    {
     "data": {
      "text/plain": [
       "<NegBackward at 0x1503665c0>"
      ]
     },
     "execution_count": 302,
     "metadata": {},
     "output_type": "execute_result"
    }
   ],
   "source": [
    "L.grad_fn"
   ]
  },
  {
   "cell_type": "code",
   "execution_count": 300,
   "metadata": {},
   "outputs": [
    {
     "data": {
      "text/plain": [
       "4"
      ]
     },
     "execution_count": 300,
     "metadata": {},
     "output_type": "execute_result"
    }
   ],
   "source": [
    "a.item()"
   ]
  },
  {
   "cell_type": "code",
   "execution_count": 308,
   "metadata": {},
   "outputs": [
    {
     "data": {
      "text/plain": [
       "[<matplotlib.lines.Line2D at 0x142a0e240>]"
      ]
     },
     "execution_count": 308,
     "metadata": {},
     "output_type": "execute_result"
    },
    {
     "data": {
      "image/png": "[encoded data removed]",
      "text/plain": [
       "<Figure size 432x288 with 1 Axes>"
      ]
     },
     "metadata": {
      "needs_background": "light"
     },
     "output_type": "display_data"
    }
   ],
   "source": [
    "plt.plot(loss)"
   ]
  },
  {
   "cell_type": "code",
   "execution_count": 309,
   "metadata": {},
   "outputs": [
    {
     "data": {
      "text/plain": [
       "[<matplotlib.lines.Line2D at 0x1427ae898>]"
      ]
     },
     "execution_count": 309,
     "metadata": {},
     "output_type": "execute_result"
    },
    {
     "data": {
      "image/png": "[encoded data removed]",
      "text/plain": [
       "<Figure size 432x288 with 1 Axes>"
      ]
     },
     "metadata": {
      "needs_background": "light"
     },
     "output_type": "display_data"
    }
   ],
   "source": [
    "plt.plot(score)"
   ]
  },
  {
   "cell_type": "code",
   "execution_count": null,
   "metadata": {},
   "outputs": [],
   "source": []
  }
 ],
 "metadata": {
  "kernelspec": {
   "display_name": "drlnd",
   "language": "python",
   "name": "drlnd"
  },
  "language_info": {
   "codemirror_mode": {
    "name": "ipython",
    "version": 3
   },
   "file_extension": ".py",
   "mimetype": "text/x-python",
   "name": "python",
   "nbconvert_exporter": "python",
   "pygments_lexer": "ipython3",
   "version": "3.6.10"
  }
 },
 "nbformat": 4,
 "nbformat_minor": 4
}
