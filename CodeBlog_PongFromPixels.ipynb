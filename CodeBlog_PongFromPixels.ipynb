{
 "cells": [
  {
   "cell_type": "code",
   "execution_count": 1,
   "metadata": {},
   "outputs": [
    {
     "name": "stdout",
     "output_type": "stream",
     "text": [
      "Requirement already satisfied: gym[atari] in c:\\users\\andre\\desktop\\udacity drl\\gym (0.17.0)\n",
      "Requirement already satisfied: scipy in c:\\users\\andre\\anaconda3\\envs\\drlnd\\lib\\site-packages (from gym[atari]) (1.4.1)\n",
      "Requirement already satisfied: numpy>=1.10.4 in c:\\users\\andre\\anaconda3\\envs\\drlnd\\lib\\site-packages (from gym[atari]) (1.18.1)\n",
      "Requirement already satisfied: six in c:\\users\\andre\\anaconda3\\envs\\drlnd\\lib\\site-packages (from gym[atari]) (1.14.0)\n",
      "Requirement already satisfied: pyglet<=1.5.0,>=1.4.0 in c:\\users\\andre\\anaconda3\\envs\\drlnd\\lib\\site-packages (from gym[atari]) (1.5.0)\n",
      "Requirement already satisfied: cloudpickle~=1.3.0 in c:\\users\\andre\\anaconda3\\envs\\drlnd\\lib\\site-packages (from gym[atari]) (1.3.0)\n",
      "Requirement already satisfied: atari_py~=0.2.0 in c:\\users\\andre\\anaconda3\\envs\\drlnd\\lib\\site-packages (from gym[atari]) (0.2.6)\n",
      "Requirement already satisfied: Pillow in c:\\users\\andre\\anaconda3\\envs\\drlnd\\lib\\site-packages (from gym[atari]) (7.0.0)\n",
      "Requirement already satisfied: opencv-python in c:\\users\\andre\\anaconda3\\envs\\drlnd\\lib\\site-packages (from gym[atari]) (4.2.0.32)\n",
      "Requirement already satisfied: future in c:\\users\\andre\\anaconda3\\envs\\drlnd\\lib\\site-packages (from pyglet<=1.5.0,>=1.4.0->gym[atari]) (0.18.2)\n"
     ]
    }
   ],
   "source": [
    "import gym\n",
    "import math\n",
    "import numpy as np\n",
    "from collections import deque\n",
    "import matplotlib.pyplot as plt\n",
    "%matplotlib inline\n",
    "\n",
    "import torch\n",
    "import torch.nn as nn\n",
    "import torch.nn.functional as F\n",
    "from torch.distributions import Categorical\n",
    "import torch.optim as optim\n",
    "!pip install gym[atari]"
   ]
  },
  {
   "cell_type": "code",
   "execution_count": 2,
   "metadata": {},
   "outputs": [],
   "source": [
    "i = 80 * 80 # input dimensionality: 80x80 grid\n",
    "h = 200\n",
    "o = 1\n",
    "\n",
    "batch_size = 10 # every how many episodes to do a param update?\n",
    "learning_rate = 2e-4\n",
    "gamma = 0.99 # discount factor for reward\n",
    "decay_rate = 0.99 # decay factor for RMSProp leaky sum of grad^2\n",
    "resume = False # resume from previous checkpoint?\n",
    "render = False"
   ]
  },
  {
   "cell_type": "code",
   "execution_count": 3,
   "metadata": {},
   "outputs": [],
   "source": [
    "class PolicyNN(nn.Module):\n",
    "    def __init__(self, input_size, hidden_size, output_size):\n",
    "        super(PolicyNN, self).__init__()\n",
    "        self.fc1 = nn.Linear(input_size, hidden_size)\n",
    "        self.fc2 = nn.Linear(hidden_size, output_size)\n",
    "        \n",
    "    def forward(self, x):\n",
    "        x = self.fc1(x)\n",
    "        x = F.relu(x)\n",
    "        x = self.fc2(x)\n",
    "        x = F.sigmoid(x)#, dim=1)\n",
    "        return x\n",
    "    \n",
    "    def act(self, state):\n",
    "        state = torch.from_numpy(state).float().unsqueeze(0).to(device)\n",
    "        p = self.forward(state).cpu()\n",
    "        action = 2 if np.random.uniform() < p else 3 \n",
    "        return action, torch.log(p)"
   ]
  },
  {
   "cell_type": "code",
   "execution_count": 4,
   "metadata": {},
   "outputs": [],
   "source": [
    "def preprocess_state(state):\n",
    "    img = state[35:195,:,:]\n",
    "    img = img[::2, ::2, 0]\n",
    "    img[img==144] = 0\n",
    "    img[img==109] = 0\n",
    "    img[img!=0] = 1\n",
    "    return img.astype(np.float).ravel()"
   ]
  },
  {
   "cell_type": "code",
   "execution_count": 5,
   "metadata": {},
   "outputs": [],
   "source": [
    "def play_pong(n_episodes=1000, gamma=0.9, print_every=100, render=False):\n",
    "    scores_deque = deque(maxlen=100)\n",
    "    scores = []\n",
    "    \n",
    "    for i_episode in range(1, n_episodes+1):\n",
    "        saved_log_probs = []\n",
    "        rewards = []\n",
    "        observation = env.reset()\n",
    "        prev_x = None\n",
    "        \n",
    "        while True:\n",
    "            if render: env.render()\n",
    "                \n",
    "            cur_x = preprocess_state(observation)\n",
    "            state = cur_x - prev_x if prev_x is not None else np.zeros(i)\n",
    "            \n",
    "            action, log_prob = agent.act(state)\n",
    "            saved_log_probs.append(log_prob)\n",
    "            \n",
    "            state, reward, done, _ = env.step(action)\n",
    "            rewards.append(reward)\n",
    "            if done:\n",
    "                break\n",
    "                \n",
    "        scores_deque.append(sum(rewards))\n",
    "        scores.append(sum(rewards))\n",
    "        \n",
    "        discounts = [gamma**i for i in range(len(rewards)+1)]\n",
    "        R = sum([a*b for a,b in zip(discounts, rewards)])\n",
    "        \n",
    "        policy_loss = []\n",
    "        for log_prob in saved_log_probs:\n",
    "            policy_loss.append(-log_prob * R)\n",
    "        policy_loss = torch.cat(policy_loss).sum()\n",
    "        \n",
    "        optimizer.zero_grad()\n",
    "        policy_loss.backward()\n",
    "        optimizer.step()\n",
    "        \n",
    "        if i_episode % print_every == 0:\n",
    "            print('Episode {}\\tAverage Score: {:.2f}'.format(i_episode, np.mean(scores_deque)))\n",
    "            \n",
    "    return scores"
   ]
  },
  {
   "cell_type": "code",
   "execution_count": 6,
   "metadata": {},
   "outputs": [],
   "source": [
    "def play_pong_batch(n_episodes=1000, gamma=0.9, print_every=100, render=False, b = batch_size):\n",
    "    scores_deque = deque(maxlen=100)\n",
    "    scores = []\n",
    "    \n",
    "    saved_log_probs = []\n",
    "    rewards = []\n",
    "    \n",
    "    for i_episode in range(1, n_episodes+1):\n",
    "        observation = env.reset()\n",
    "        prev_x = None\n",
    "        ep_rewards = []\n",
    "        \n",
    "        while True:\n",
    "            if render: env.render()\n",
    "                \n",
    "            cur_x = preprocess_state(observation)\n",
    "            state = cur_x - prev_x if prev_x is not None else np.zeros(i)\n",
    "            \n",
    "            action, log_prob = agent.act(state)\n",
    "            saved_log_probs.append(log_prob)\n",
    "            \n",
    "            state, reward, done, _ = env.step(action)\n",
    "            rewards.append(reward)\n",
    "            ep_rewards.append(reward)\n",
    "            if done:\n",
    "                break\n",
    "                \n",
    "        scores_deque.append(sum(ep_rewards))\n",
    "        scores.append(sum(ep_rewards))\n",
    "        \n",
    "        if i_episode % b == 0:\n",
    "            discounts = [gamma**i for i in range(len(rewards)+1)]\n",
    "            R = sum([a*b for a,b in zip(discounts, rewards)])\n",
    "            policy_loss = []\n",
    "            for log_prob in saved_log_probs:\n",
    "                policy_loss.append(-log_prob * R)\n",
    "            policy_loss = torch.cat(policy_loss).sum()\n",
    "\n",
    "            optimizer.zero_grad()\n",
    "            policy_loss.backward()\n",
    "            optimizer.step()\n",
    "            saved_log_probs = []\n",
    "            rewards = []\n",
    "        \n",
    "        #if i_episode % print_every == 0:\n",
    "            print('Episode {}\\tAverage Score: {:.2f}'.format(i_episode, np.mean(scores_deque)))\n",
    "            \n",
    "    return scores"
   ]
  },
  {
   "cell_type": "code",
   "execution_count": null,
   "metadata": {},
   "outputs": [
    {
     "name": "stdout",
     "output_type": "stream",
     "text": [
      "Training on cuda:0.\n"
     ]
    },
    {
     "name": "stderr",
     "output_type": "stream",
     "text": [
      "C:\\Users\\Andre\\Anaconda3\\envs\\drlnd\\lib\\site-packages\\torch\\nn\\functional.py:1351: UserWarning: nn.functional.sigmoid is deprecated. Use torch.sigmoid instead.\n",
      "  warnings.warn(\"nn.functional.sigmoid is deprecated. Use torch.sigmoid instead.\")\n"
     ]
    },
    {
     "name": "stdout",
     "output_type": "stream",
     "text": [
      "Episode 10\tAverage Score: -20.20\n",
      "Episode 20\tAverage Score: -20.40\n",
      "Episode 30\tAverage Score: -20.53\n",
      "Episode 40\tAverage Score: -20.50\n",
      "Episode 50\tAverage Score: -20.46\n",
      "Episode 60\tAverage Score: -20.45\n",
      "Episode 70\tAverage Score: -20.39\n",
      "Episode 80\tAverage Score: -20.39\n",
      "Episode 90\tAverage Score: -20.41\n",
      "Episode 100\tAverage Score: -20.42\n",
      "Episode 110\tAverage Score: -20.46\n",
      "Episode 120\tAverage Score: -20.45\n",
      "Episode 130\tAverage Score: -20.39\n",
      "Episode 140\tAverage Score: -20.45\n",
      "Episode 150\tAverage Score: -20.43\n",
      "Episode 160\tAverage Score: -20.37\n",
      "Episode 170\tAverage Score: -20.43\n",
      "Episode 180\tAverage Score: -20.43\n",
      "Episode 190\tAverage Score: -20.40\n",
      "Episode 200\tAverage Score: -20.39\n",
      "Episode 210\tAverage Score: -20.37\n",
      "Episode 220\tAverage Score: -20.32\n",
      "Episode 230\tAverage Score: -20.37\n"
     ]
    }
   ],
   "source": [
    "device = torch.device(\"cuda:0\" if torch.cuda.is_available() else \"cpu\")\n",
    "print('Training on {}.'.format(device))\n",
    "\n",
    "agent = PolicyNN(i,h,o).to(device)\n",
    "env = gym.make(\"Pong-v0\")\n",
    "optimizer = optim.Adam(agent.parameters(), lr=learning_rate)\n",
    "\n",
    "scores = play_pong_batch(render=False, n_episodes=5000, print_every=10, gamma=gamma, b=batch_size)"
   ]
  },
  {
   "cell_type": "code",
   "execution_count": null,
   "metadata": {},
   "outputs": [],
   "source": []
  }
 ],
 "metadata": {
  "kernelspec": {
   "display_name": "drlnd",
   "language": "python",
   "name": "drlnd"
  },
  "language_info": {
   "codemirror_mode": {
    "name": "ipython",
    "version": 3
   },
   "file_extension": ".py",
   "mimetype": "text/x-python",
   "name": "python",
   "nbconvert_exporter": "python",
   "pygments_lexer": "ipython3",
   "version": "3.6.10"
  }
 },
 "nbformat": 4,
 "nbformat_minor": 4
}
