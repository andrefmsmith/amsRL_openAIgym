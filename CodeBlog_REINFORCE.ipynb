{
 "cells": [
  {
   "cell_type": "markdown",
   "metadata": {},
   "source": [
    "# REINFORCE\n",
    "_____________"
   ]
  },
  {
   "cell_type": "markdown",
   "metadata": {},
   "source": [
    "## 0. Background\n",
    "\n",
    "REINFORCE is a policy-based reinforcement learning algorithm where we treat reinforcement learning a bit more like a supervised learning problem: that is, we *directly differentiate the reinforcement learning objective*, which is to maximise return.  \n",
    "\n",
    "When using a policy gradient approach during an RL problem, the agent passes a state through its policy network in a forward pass, which returns a probability distribution over the action space. The agent then selects an action by sampling from the action space according to this probability distribution, which triggers the next state. For each subsequent time-step, this 'state-forward propagation-action selection' pattern is repeated and the sequence of states and actions taken is termed a **trajectory**. At the end of the episode, the agent collects a reward value. If it won, this indicates that its recent trajectory was a good one and therefore the policy network's parameters should be updated such that in future, that particular trajectory is more likely to be experienced.  \n",
    "\n",
    "Our goal is to find the set of (weight and bias) parameters for our policy neural network that  maximises return. The difference in the REINFORCE method is that we do this by directly trying to maximise the return function:  \n",
    "\n",
    "<img src=\"reinforce_return.png\" width=400px>  \n",
    "\n",
    "How? Let's compare with a Supervised Learning approach to gain a sense.  \n",
    "\n",
    "### Relationship to Supervised Learning\n",
    "In SL, given a batch of inputs, our network generates an output (say a binary classification of 0 or 1) of the same size. During training, we compare this output to the label by using a cost function, such as cross-entropy or MSE for example. Our goal in SL is for the network to learn to produce outputs that are as close as possible to the labelled data. In other words, we aim to **minimize the cost function**. The latter is a function of our network's weights and biases and minimising it involves gradually changing these parameters such that we travel on the surface of this function seeking a global minimum.  \n",
    "\n",
    "We achieve this by using **gradient descent**. First, by differentiating the equation for our particular choice of cost function, we can find the slope of any point (specified by our model's parameters) on that function. This tells us *what will happen to the cost if we move parameters in a certain direction* in the vicinity of the current parameter values. This is called the **gradient**. If we know the gradient, then to update parameters in our quest for a global minimum, all we need to do is multiply that gradient by a learning rate and subtract this from our current parameters. Let's unpack this a little.  \n",
    "\n",
    "If the **gradient is positive**, that means the cost function is increasing and therefore moving in the opposite direction of the gradient (remember the subtraction sign) is the right thing to do. If the **gradient is negative**, we want to move in the same direction as the gradient, which is what happens because we're subtracting a negative value (same as adding) from our current parameters. The learning rate value simply controls how large a step we take in updating our weight and bias parameters. As we iterate through our training set, we compute the cost function as an indicator of training progress. This can also be useful in debugging bias vs variance problems with our model.  \n",
    "\n",
    "### Applying to Reinforcement Learning\n",
    "In RL with policy gradients, instead of a cost function we have an expected return function U which we're trying to maximise rather than minimise, but our approach is fundamentally the same. Return U is a function of the policy network's parameters therefore we travel the surface of U by varying weights and biases in the network, aiming to reach a global 'peak.  \n",
    "\n",
    "Once again we use **gradient descent**; if we differentiate U, expected return, we obtain:\n",
    "<img src=\"reinforce_diffreturn.png\" width=400px>  \n",
    "\n",
    "The purple term gives us the gradient of the probability of selecting each action 'at' from each state 'st' in a trajectory, with regard to the parameters theta. If we multiply that by the trajectory return, we arrive at a nice property. **If return was positive** for a set of parameters, the gradient of U wrt those parameters will be positive therefore when updating parameters we move **in the direction of the gradient** because we are adding the gradient scaled by learning rate to our current parameters. If **return was negative**, we want to move in the **opposite direction to the gradient** so we add the negative of the gradient scaled by learning rate to our current parameters, same as subtracting from them.  \n",
    "\n",
    "In other words, when we talk about the gradient of at|st wrt theta, what we mean is we're finding out **how we need to shift theta if we want to increase or decrease the probability of a trajectory**. Moving in the **direction of that gradient** in our parameter update means **increasing the probability of generating that trajectory again** with our network. This is what happens if we obtain a positive return and multiply the gradient of at|st wrt theta by it, which keeps the sign. If we obtain a negative return, we want to **lower the probability of our network generating that trajectory** again - so we move in the direction **opposite to the gradient**. If return is negative, this is exactly what happens, since multiplying by return means we flip the sign on our gradient."
   ]
  },
  {
   "cell_type": "markdown",
   "metadata": {},
   "source": [
    "## 1. Import packages"
   ]
  },
  {
   "cell_type": "code",
   "execution_count": 1,
   "metadata": {},
   "outputs": [],
   "source": [
    "import gym\n",
    "import numpy as np\n",
    "from collections import deque\n",
    "import matplotlib.pyplot as plt\n",
    "%matplotlib inline\n",
    "\n",
    "import torch\n",
    "import torch.nn as nn\n",
    "import torch.nn.functional as F\n",
    "import torch.optim as optim\n",
    "from torch.distributions import Categorical"
   ]
  },
  {
   "cell_type": "markdown",
   "metadata": {},
   "source": [
    "## 2. Instantiate the environment and device\n",
    "Cartpole has a continuous 4-dimensional observation space and a 2-dimensional discrete action space: we either take a step left or right, to balance the pole."
   ]
  },
  {
   "cell_type": "code",
   "execution_count": 2,
   "metadata": {},
   "outputs": [
    {
     "name": "stdout",
     "output_type": "stream",
     "text": [
      "observation space: Box(4,)\n",
      "action space: Discrete(2)\n",
      "Training on cpu.\n"
     ]
    }
   ],
   "source": [
    "env = gym.make('CartPole-v0')\n",
    "#env.seed(0)\n",
    "print('observation space:', env.observation_space)\n",
    "print('action space:', env.action_space)\n",
    "\n",
    "device = torch.device(\"cuda:0\" if torch.cuda.is_available() else \"cpu\")\n",
    "print('Training on {}.'.format(device))"
   ]
  },
  {
   "cell_type": "markdown",
   "metadata": {},
   "source": [
    "## 3. Instantiate Policy network and methods\n",
    "We define a policy network with input size matching the state space and output size matching the action space dimensions. In between we have a hidden layer, with a number of units of our choosing.  \n",
    "\n",
    "We define a forward propagation graph where the hidden layer uses ReLu activation and the output layer uses softmax, since we want it to output action probabilities summing to 1 over the full action space.  \n",
    "\n",
    "Lastly, we define an action selection method. This turns an input state into a tensor and forward propagates that input through the current policy network in order to obtain a probability distribution over actions. It then generates a categorical distribution over this vector of probabilities,\n",
    "```Python\n",
    "    def act(self, state):\n",
    "        state = torch.from_numpy(state).float().unsqueeze(0).to(device)\n",
    "        probabilities = self.forward(state).cpu()\n",
    "        m = Categorical(probabilities) ```\n",
    "Then retrieves a category (or index) from this distribution by sampling from it according to ```probabilities```. It returns this action index as well as the log of its probability, which we will need for calculating expected return gradient."
   ]
  },
  {
   "cell_type": "code",
   "execution_count": 3,
   "metadata": {},
   "outputs": [],
   "source": [
    "class Policy(nn.Module):\n",
    "    def __init__(self, input_size=4, hidden_size=16, output_size=2):\n",
    "        super(Policy, self).__init__()\n",
    "        self.fc1 = nn.Linear(input_size, hidden_size)\n",
    "        self.fc2 = nn.Linear(hidden_size, output_size)\n",
    "    \n",
    "    def forward(self, x):\n",
    "        x = self.fc1(x)\n",
    "        x = F.relu(x)\n",
    "        x = self.fc2(x)\n",
    "        x = F.softmax(x, dim=1)\n",
    "        return x\n",
    "    \n",
    "    def act(self, state):\n",
    "        state = torch.from_numpy(state).float().unsqueeze(0).to(device)\n",
    "        probabilities = self.forward(state).cpu()\n",
    "        m = Categorical(probabilities) # Creates a categorical distribution over a vector of probabilities\n",
    "        action = m.sample() # Retrieve a category from the distribution by sampling according to 'probabilities'\n",
    "        return action.item(), m.log_prob(action) # Return the category (action index) and the log of its probability"
   ]
  },
  {
   "cell_type": "markdown",
   "metadata": {},
   "source": [
    "## 4. Training function\n",
    "As for previous problems, we initiate a deque and a list for keeping track of 100 most recent and episode by episode scores. Then we run an episode and a nested time-step loop.  \n",
    "\n",
    "Notice for each time-step within an episode we save the log probabilities of each action taken in the episode, as we need this for calculating the gradient:\n",
    "```Python\n",
    "    for i_episode in range(1, n_episodes+1):\n",
    "        saved_log_probs = []\n",
    "        ...\n",
    "            action, log_prob = policy.act(state)\n",
    "            saved_log_probs.append(log_prob)```\n",
    "At the end of the episode, we tally up its return,\n",
    "```Python\n",
    "            R = sum([a*b for a,b in zip(discounts, rewards)])```\n",
    "Which we multiply by the log probability and add up for every time step,\n",
    "```Python\n",
    "                policy_loss = []\n",
    "                for log_prob in saved_log_probs:\n",
    "                    policy_loss.append(-log_prob * R)\n",
    "                policy_loss = torch.cat(policy_loss).sum()```\n",
    "Finishing by computing the differentiation with .backward() and updating weights with .step():\n",
    "```Python\n",
    "                    policy_loss.backward()\n",
    "                    optimizer.step()```"
   ]
  },
  {
   "cell_type": "code",
   "execution_count": 6,
   "metadata": {},
   "outputs": [],
   "source": [
    "def reinforce(n_episodes=1000, max_t=1000, gamma=1.0, print_every=100):\n",
    "    scores_deque = deque(maxlen=100)\n",
    "    scores = []\n",
    "    \n",
    "    for i_episode in range(1, n_episodes+1):\n",
    "        saved_log_probs = []\n",
    "        rewards = []\n",
    "        state = env.reset()\n",
    "        \n",
    "        # state-action-reward-state loop\n",
    "        for t in range(max_t):\n",
    "            action, log_prob = policy.act(state)\n",
    "            saved_log_probs.append(log_prob)\n",
    "            state, reward, done, _ = env.step(action)\n",
    "            rewards.append(reward)\n",
    "            if done:\n",
    "                break\n",
    "                \n",
    "        scores_deque.append(sum(rewards))\n",
    "        scores.append(sum(rewards))\n",
    "        \n",
    "        discounts = [gamma**i for i in range(len(rewards)+1)]\n",
    "        R = sum([a*b for a,b in zip(discounts, rewards)])\n",
    "        \n",
    "        policy_loss = []\n",
    "        for log_prob in saved_log_probs:\n",
    "            policy_loss.append(-log_prob * R)\n",
    "        policy_loss = torch.cat(policy_loss).sum()\n",
    "        \n",
    "        optimizer.zero_grad()\n",
    "        policy_loss.backward()\n",
    "        optimizer.step()\n",
    "        \n",
    "        if i_episode % print_every == 0:\n",
    "            print('Episode {}\\tAverage Score: {:.2f}'.format(i_episode, np.mean(scores_deque)))\n",
    "        if np.mean(scores_deque)>=195.0:\n",
    "            print('Environment solved in {:d} episodes!\\tAverage Score: {:.2f}'.format(i_episode-100, np.mean(scores_deque)))\n",
    "            break\n",
    "        \n",
    "    return scores"
   ]
  },
  {
   "cell_type": "code",
   "execution_count": 13,
   "metadata": {},
   "outputs": [
    {
     "name": "stdout",
     "output_type": "stream",
     "text": [
      "Episode 100\tAverage Score: 34.91\n",
      "Episode 200\tAverage Score: 40.99\n",
      "Episode 300\tAverage Score: 63.71\n",
      "Episode 400\tAverage Score: 42.19\n",
      "Episode 500\tAverage Score: 65.68\n",
      "Episode 600\tAverage Score: 56.35\n",
      "Episode 700\tAverage Score: 79.31\n",
      "Episode 800\tAverage Score: 92.48\n",
      "Episode 900\tAverage Score: 143.62\n",
      "Environment solved in 891 episodes!\tAverage Score: 195.54\n"
     ]
    }
   ],
   "source": [
    "s = env.observation_space.shape[0]\n",
    "h = 16\n",
    "a = env.action_space.n\n",
    "\n",
    "policy = Policy(s, h, a).to(device)\n",
    "optimizer = optim.Adam(policy.parameters(), lr=1e-2)\n",
    "\n",
    "scores = reinforce(n_episodes=2000)"
   ]
  },
  {
   "cell_type": "code",
   "execution_count": 14,
   "metadata": {},
   "outputs": [
    {
     "data": {
      "image/png": "[encoded data removed]",
      "text/plain": [
       "<Figure size 432x288 with 1 Axes>"
      ]
     },
     "metadata": {
      "needs_background": "light"
     },
     "output_type": "display_data"
    }
   ],
   "source": [
    "fig = plt.figure()\n",
    "ax = fig.add_subplot(111)\n",
    "plt.plot(np.arange(1, len(scores)+1), scores)\n",
    "plt.ylabel('Score')\n",
    "plt.xlabel('Episode #')\n",
    "plt.show()"
   ]
  },
  {
   "cell_type": "code",
   "execution_count": 15,
   "metadata": {},
   "outputs": [
    {
     "data": {
      "image/png": "[encoded data removed]",
      "text/plain": [
       "<Figure size 648x648 with 1 Axes>"
      ]
     },
     "metadata": {
      "needs_background": "light"
     },
     "output_type": "display_data"
    }
   ],
   "source": [
    "from IPython import display\n",
    "\n",
    "state = env.reset()\n",
    "plt.figure(figsize=(9,9))\n",
    "img = plt.imshow(env.render(mode='rgb_array')) # only call this once\n",
    "plt.axis('off')\n",
    "for _ in range(1000):\n",
    "    img.set_data(env.render(mode='rgb_array')) # just update the data\n",
    "    display.display(plt.gcf())\n",
    "    display.clear_output(wait=True)\n",
    "    action, _ = policy.act(state)\n",
    "    state, reward, done, _ = env.step(action)\n",
    "    if done:\n",
    "        break\n",
    "env.close()"
   ]
  },
  {
   "cell_type": "code",
   "execution_count": null,
   "metadata": {},
   "outputs": [],
   "source": []
  }
 ],
 "metadata": {
  "kernelspec": {
   "display_name": "drlnd",
   "language": "python",
   "name": "drlnd"
  },
  "language_info": {
   "codemirror_mode": {
    "name": "ipython",
    "version": 3
   },
   "file_extension": ".py",
   "mimetype": "text/x-python",
   "name": "python",
   "nbconvert_exporter": "python",
   "pygments_lexer": "ipython3",
   "version": "3.6.10"
  }
 },
 "nbformat": 4,
 "nbformat_minor": 4
}
