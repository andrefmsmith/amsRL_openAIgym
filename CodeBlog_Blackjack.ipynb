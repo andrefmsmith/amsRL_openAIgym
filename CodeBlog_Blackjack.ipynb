{
 "cells": [
  {
   "cell_type": "code",
   "execution_count": 1,
   "metadata": {},
   "outputs": [],
   "source": [
    "import sys\n",
    "import gym\n",
    "import numpy as np\n",
    "import matplotlib.pyplot as plt\n",
    "from collections import defaultdict, deque"
   ]
  },
  {
   "cell_type": "markdown",
   "metadata": {},
   "source": [
    "# Blackjack\n",
    "In this notebook we will implement an agent for playing Blackjack, using Monte Carlo control to learn a good policy. "
   ]
  },
  {
   "cell_type": "code",
   "execution_count": 2,
   "metadata": {},
   "outputs": [],
   "source": [
    "env = gym.make('Blackjack-v0')"
   ]
  },
  {
   "cell_type": "markdown",
   "metadata": {},
   "source": [
    "## Setting up\n",
    "We define an Agent class with an action space of 2, and attributes epsilon, epsilon_d (decay), epsilon_m (minimum epsilon) alpha learning rate and gamma discounting factor. The agent also has a Q-table, which we initialise as a dictionary. In this situation, this is more practical than a numpy array because some states are impossible to visit during the game of Blackjack.\n",
    "\n",
    "We define two Agent class methods, one for selecting an action according to an epsilon-greedy policy, and the other for updating the Agent's Q-table using Monte Carlo. MC is a good approach for solving this problem because each episode of Blackjack has **only a few timesteps**. For that reason, Temporal Difference methods would not constitute an advantage."
   ]
  },
  {
   "cell_type": "code",
   "execution_count": 6,
   "metadata": {},
   "outputs": [],
   "source": [
    "class Agent():\n",
    "    \n",
    "    def __init__(self, nA=2, epsilon=1, epsilon_d=0.99999, epsilon_m = 0.05, alpha=0.015, gamma=1.0):\n",
    "        self.nA = nA\n",
    "        self.epsilon = epsilon\n",
    "        self.epsilon_d = epsilon_d\n",
    "        self.epsilon_m = epsilon_m\n",
    "        self.alpha = alpha\n",
    "        self.gamma = gamma\n",
    "        self.Q = defaultdict(lambda: np.zeros(nA))\n",
    "        \n",
    "    def select_action(self, state):\n",
    "        probabilities = np.ones(self.nA)*self.epsilon/self.nA\n",
    "        greedy_action = np.argmax(self.Q[state]) if state in self.Q else env.action_space.sample()\n",
    "        probabilities[greedy_action] = 1 - self.epsilon + (self.epsilon/self.nA)\n",
    "        action = np.random.choice(self.nA, p=probabilities)\n",
    "        return action\n",
    "    \n",
    "    def MC_update(self, states, actions, rewards):\n",
    "        discounts = np.array([self.gamma**1 for i in range(len(rewards)+1)])\n",
    "        for i, state in enumerate(states):\n",
    "            old_Q = self.Q[state][actions[i]]\n",
    "            self.Q[state][actions[i]] = old_Q + self.alpha*(sum(rewards[i:]*discounts[:-(1+i)]) - old_Q)"
   ]
  },
  {
   "cell_type": "markdown",
   "metadata": {},
   "source": [
    "Then we define a function for agent-environment interaction, *MC_blackjack*, which, for a number of episodes, initiates lists to keep track of states, actions and rewards for the episode and coordinates the Agent's methods for selecting an action based on a state and Q-table, then updates the agent's Q-table at the end of the episode, based on its outcome. The function returns the learnt Q-table and policy."
   ]
  },
  {
   "cell_type": "code",
   "execution_count": 7,
   "metadata": {},
   "outputs": [],
   "source": [
    "def MC_blackjack(env, agent, num_episodes, window=1000):\n",
    "    for i_episode in range(1, num_episodes+1):\n",
    "        states = []\n",
    "        actions = []\n",
    "        rewards = []\n",
    "        agent.epsilon = max(agent.epsilon*agent.epsilon_d, agent.epsilon_m)\n",
    "        state = env.reset()\n",
    "        while True:\n",
    "            action = agent.select_action(state)\n",
    "            next_state, reward, done, info = env.step(action)\n",
    "            states.append(state)\n",
    "            actions.append(action)\n",
    "            rewards.append(reward)\n",
    "            state = next_state\n",
    "            if done:\n",
    "                agent.MC_update(states, actions, rewards)\n",
    "                break\n",
    "                \n",
    "        if i_episode % window == 0:\n",
    "            print(\"\\rEpisode {}/{}.\".format(i_episode, num_episodes), end=\"\")\n",
    "            sys.stdout.flush()\n",
    "                \n",
    "    policy = dict((k,np.argmax(v)) for k, v in agent.Q.items())\n",
    "    \n",
    "    return agent.Q, policy"
   ]
  },
  {
   "cell_type": "markdown",
   "metadata": {},
   "source": [
    "## Learning a good policy and plotting the results\n",
    "We're ready to instantiate our agent and use our *MC_blackjack* function to get it to learn a good policy by interacting with the environment."
   ]
  },
  {
   "cell_type": "code",
   "execution_count": 8,
   "metadata": {},
   "outputs": [
    {
     "name": "stdout",
     "output_type": "stream",
     "text": [
      "Episode 10000000/10000000."
     ]
    }
   ],
   "source": [
    "agent = Agent()\n",
    "Q, policy = MC_blackjack(env, agent, num_episodes=10000000)"
   ]
  },
  {
   "cell_type": "markdown",
   "metadata": {},
   "source": [
    "### Q-table\n",
    "We now visualise the Q-table learnt by our agent. States in the Blackjack environment are tuples of dimension 3 (Player's current sum, Dealer's showing card and whether we have a usable ace or not). To be able to visualise our results in 2D, I opted to split the Q-table in two (Usable Ace or not) and representing Q values in color.\n",
    "\n",
    "The first block of code sets up two Q-table arrays from the Q dictionary and the second block sets up a subplot, with axes, etc appropriately labeled."
   ]
  },
  {
   "cell_type": "code",
   "execution_count": 9,
   "metadata": {},
   "outputs": [
    {
     "data": {
      "image/png": "[encoded data removed]",
      "text/plain": [
       "<Figure size 720x1440 with 2 Axes>"
      ]
     },
     "metadata": {
      "needs_background": "light"
     },
     "output_type": "display_data"
    }
   ],
   "source": [
    "Q_array_noAce = np.zeros((11,10))\n",
    "Q_array_Ace = np.zeros((11,10))\n",
    "\n",
    "for x in np.arange(11, 22):\n",
    "    for y in np.arange(10, 0, -1):\n",
    "        if (x,y,False) in Q:\n",
    "            Q_array_noAce[x-11,y-1] = np.max(np.array([Q[x,y,False]]))\n",
    "        else:\n",
    "            pass\n",
    "        if (x,y,True) in Q:\n",
    "            Q_array_Ace[x-11,y-1] = np.max(np.array([Q[x,y,True]]))\n",
    "        else:\n",
    "            pass\n",
    "\n",
    "Q_array_noAce = Q_array_noAce.T\n",
    "Q_array_Ace = Q_array_Ace.T\n",
    "\n",
    "fig, (ax1, ax2) = plt.subplots(1,2, sharex=False, sharey=False, figsize = (10,20))\n",
    "\n",
    "plt.setp((ax1,ax2), xticks=np.arange(11), xticklabels=np.arange(11,22),\n",
    "        yticks=np.arange(10), yticklabels=np.arange(10, 0, -1))\n",
    "plt.subplots_adjust(wspace=0.5)\n",
    "plt.suptitle('Q-tables',y=0.6, fontsize=15)\n",
    "\n",
    "ax1.imshow(Q_array_noAce, cmap='coolwarm', vmin = -1, vmax = 1)\n",
    "ax1.set_xlabel(\"Player's Current Sum\", fontsize=13);\n",
    "ax1.set_ylabel(\"Dealer's Showing Card\", fontsize=13);\n",
    "ax1.set_title('No Usable Ace');\n",
    "\n",
    "ax2.imshow(Q_array_Ace, cmap='coolwarm', vmin = -1, vmax = 1)\n",
    "ax2.set_ylabel(\"Dealer's Showing Card\", fontsize=13);\n",
    "ax2.set_xlabel(\"Player's Current Sum\", fontsize=13);\n",
    "ax2.set_title('Usable Ace');\n",
    "ax2.text(12,1.5,'Max: 1.0', color=(184/255,24/255,46/255), fontsize=13);\n",
    "ax2.text(12,2.5,'Min: -1.0', color=(98/255,130/255,229/255), fontsize=13);"
   ]
  },
  {
   "cell_type": "markdown",
   "metadata": {},
   "source": [
    "### Policy\n",
    "Now we do the same thing to visualise the policy learnt by our agent. The true optimal policy is overlaid on the heatmap as a dashed line for comparison."
   ]
  },
  {
   "cell_type": "code",
   "execution_count": 10,
   "metadata": {},
   "outputs": [
    {
     "data": {
      "image/png": "[encoded data removed]",
      "text/plain": [
       "<Figure size 720x1440 with 2 Axes>"
      ]
     },
     "metadata": {
      "needs_background": "light"
     },
     "output_type": "display_data"
    }
   ],
   "source": [
    "p_array_noAce = np.ones((11,10))\n",
    "p_array_Ace = np.ones((11,10))\n",
    "\n",
    "for x in np.arange(11, 22):\n",
    "    for y in np.arange(10, 0, -1):\n",
    "        if (x,y,False) in policy:\n",
    "            p_array_noAce[x-11,y-1] = policy[x,y,False]\n",
    "        else:\n",
    "            pass\n",
    "        if (x,y,True) in policy:\n",
    "            p_array_Ace[x-11,y-1] = policy[x,y,True]\n",
    "        else:\n",
    "            pass\n",
    "\n",
    "p_array_noAce = p_array_noAce.T\n",
    "p_array_Ace = p_array_Ace.T\n",
    "\n",
    "fig, (ax1, ax2) = plt.subplots(1,2, sharex=False, sharey=False, figsize = (10,20))\n",
    "\n",
    "plt.setp((ax1,ax2), xticks=np.arange(11), xticklabels=np.arange(11,22),\n",
    "        yticks=np.arange(11), yticklabels=np.arange(1, 11, 1))\n",
    "plt.subplots_adjust(wspace=0.5)\n",
    "\n",
    "ax1.imshow(p_array_noAce, cmap='coolwarm', vmin = -1, vmax = 2)\n",
    "ax1.set_xlabel(\"Player's Current Sum\", fontsize=13);\n",
    "ax1.set_ylabel(\"Dealer's Showing Card\", fontsize=13);\n",
    "ax1.set_title('No Usable Ace');\n",
    "ax1.vlines(x=5.5, ymin=5.5, ymax=9.5,colors='w', linestyles={'dashed'});\n",
    "ax1.vlines(x=5.5, ymin=-0.5, ymax=0.5,colors='w', linestyles={'dashed'});\n",
    "ax1.vlines(x=1.5, ymin=0.5, ymax=2.5,colors='w', linestyles={'dashed'});\n",
    "ax1.vlines(x=0.5, ymin=2.5, ymax=5.5,colors='w', linestyles={'dashed'});\n",
    "ax1.hlines(y=0.5, xmin=1.5 , xmax=5.5,colors='w', linestyles={'dashed'});\n",
    "ax1.hlines(y=0.5, xmin=1.5 , xmax=5.5,colors='w', linestyles={'dashed'});\n",
    "ax1.hlines(y=5.5, xmin=0.5 , xmax=5.5,colors='w', linestyles={'dashed'});\n",
    "ax1.hlines(y=2.5, xmin=0.5 , xmax=1.5,colors='w', linestyles={'dashed'});\n",
    "\n",
    "ax2.imshow(p_array_Ace, cmap='coolwarm', vmin = -1, vmax = 2)\n",
    "ax2.set_ylabel(\"Dealer's Current Sum\", fontsize=13);\n",
    "ax2.set_xlabel(\"Player's Current Sum\", fontsize=13);\n",
    "ax2.set_title('Usable Ace');\n",
    "ax2.vlines(x=7.5, ymin=-0.5, ymax=0.5,colors='w', linestyles={'dashed'});\n",
    "ax2.vlines(x=6.5, ymin=0.5, ymax=7.5,colors='w', linestyles={'dashed'});\n",
    "ax2.vlines(x=7.5, ymin=7.5, ymax=9.5,colors='w', linestyles={'dashed'});\n",
    "ax2.hlines(y=0.5, xmin=6.5, xmax=7.5, colors='w', linestyles={'dashed'});\n",
    "ax2.hlines(y=7.5, xmin=6.5, xmax=7.5, colors='w', linestyles={'dashed'});\n",
    "ax2.text(12,0,'--- True Optimal Policy, Sutton & Barto', fontsize=13);\n",
    "ax2.text(12,1.5,'Red: Hit', color=(245/255,183/255,159/255), fontsize=13);\n",
    "ax2.text(12,2.5,'Blue: Stick', color=(171/255,198/255,250/255), fontsize=13);"
   ]
  },
  {
   "cell_type": "code",
   "execution_count": 11,
   "metadata": {},
   "outputs": [],
   "source": [
    "def just_play_blackjack(env, agent, num_episodes, window=1000):\n",
    "    won = 0\n",
    "    drew = 0\n",
    "    lost = 0\n",
    "    for i_episode in range(1, num_episodes+1):\n",
    "        #states = []\n",
    "        #actions = []\n",
    "        #rewards = []\n",
    "        agent.epsilon = 0\n",
    "        state = env.reset()\n",
    "        while True:\n",
    "            action = agent.select_action(state)\n",
    "            next_state, reward, done, info = env.step(action)\n",
    "            #states.append(state)\n",
    "            #actions.append(action)\n",
    "            #rewards.append(reward)\n",
    "            state = next_state\n",
    "            if done:\n",
    "                if reward == 1:\n",
    "                    won += 1\n",
    "                elif reward == 0:\n",
    "                    drew += 1\n",
    "                elif reward == -1:\n",
    "                    lost += 1\n",
    "                break\n",
    "\n",
    "    print('Played {} games of blackjack: won {}%, lost {}% and drew {}%.'.format(num_episodes,\n",
    "                                                                                 round(100*won/num_episodes,1),\n",
    "                                                                                 round(100*lost/num_episodes,1),\n",
    "                                                                                 round(100*drew/num_episodes,1)))\n",
    "                \n",
    "    return (won, drew, lost)"
   ]
  },
  {
   "cell_type": "markdown",
   "metadata": {},
   "source": [
    "Above we define a function for playing blackjack greedily (with an epsilon of 0) and not updating the Q-table. Let's see how well the agent fares."
   ]
  },
  {
   "cell_type": "code",
   "execution_count": 13,
   "metadata": {},
   "outputs": [
    {
     "name": "stdout",
     "output_type": "stream",
     "text": [
      "Played 50000 games of blackjack: won 42.4%, lost 48.1% and drew 9.5%.\n"
     ]
    }
   ],
   "source": [
    "results = just_play_blackjack(env,agent,num_episodes=50000)"
   ]
  },
  {
   "cell_type": "code",
   "execution_count": null,
   "metadata": {},
   "outputs": [],
   "source": []
  }
 ],
 "metadata": {
  "kernelspec": {
   "display_name": "Python 3",
   "language": "python",
   "name": "python3"
  },
  "language_info": {
   "codemirror_mode": {
    "name": "ipython",
    "version": 3
   },
   "file_extension": ".py",
   "mimetype": "text/x-python",
   "name": "python",
   "nbconvert_exporter": "python",
   "pygments_lexer": "ipython3",
   "version": "3.7.4"
  }
 },
 "nbformat": 4,
 "nbformat_minor": 2
}
